{
  "nbformat": 4,
  "nbformat_minor": 0,
  "metadata": {
    "colab": {
      "provenance": []
    },
    "kernelspec": {
      "name": "python3",
      "display_name": "Python 3"
    },
    "language_info": {
      "name": "python"
    }
  },
  "cells": [
    {
      "cell_type": "code",
      "execution_count": 203,
      "metadata": {
        "id": "xccGaue5BCu6"
      },
      "outputs": [],
      "source": [
        "import torch\n",
        "from torch import nn\n",
        "\n",
        "import torchvision\n",
        "from torchvision import datasets\n",
        "\n",
        "import numpy as np\n",
        "import matplotlib.pyplot as plt\n",
        "import pandas as pd\n",
        "from torchvision.transforms import ToTensor"
      ]
    },
    {
      "cell_type": "code",
      "source": [
        "torch.__version__"
      ],
      "metadata": {
        "colab": {
          "base_uri": "https://localhost:8080/",
          "height": 35
        },
        "id": "NKN9-yhRBwss",
        "outputId": "2412a32c-3af5-418b-cf3c-b20c70beaf3a"
      },
      "execution_count": 204,
      "outputs": [
        {
          "output_type": "execute_result",
          "data": {
            "text/plain": [
              "'2.1.0+cu121'"
            ],
            "application/vnd.google.colaboratory.intrinsic+json": {
              "type": "string"
            }
          },
          "metadata": {},
          "execution_count": 204
        }
      ]
    },
    {
      "cell_type": "code",
      "source": [
        "train_data = datasets.FashionMNIST(root='data' , train = True , download = True , transform = ToTensor())\n",
        "test_data = datasets.FashionMNIST(root='data' , train = False , download = False , transform = ToTensor())"
      ],
      "metadata": {
        "id": "9lkfZs_6B4vw"
      },
      "execution_count": 205,
      "outputs": []
    },
    {
      "cell_type": "code",
      "source": [
        "image , label = train_data[0]\n",
        "image , label"
      ],
      "metadata": {
        "colab": {
          "base_uri": "https://localhost:8080/"
        },
        "id": "3y0csSp0CY-v",
        "outputId": "e1cde054-e872-4737-a4ce-e714341f184e"
      },
      "execution_count": 206,
      "outputs": [
        {
          "output_type": "execute_result",
          "data": {
            "text/plain": [
              "(tensor([[[0.0000, 0.0000, 0.0000, 0.0000, 0.0000, 0.0000, 0.0000, 0.0000,\n",
              "           0.0000, 0.0000, 0.0000, 0.0000, 0.0000, 0.0000, 0.0000, 0.0000,\n",
              "           0.0000, 0.0000, 0.0000, 0.0000, 0.0000, 0.0000, 0.0000, 0.0000,\n",
              "           0.0000, 0.0000, 0.0000, 0.0000],\n",
              "          [0.0000, 0.0000, 0.0000, 0.0000, 0.0000, 0.0000, 0.0000, 0.0000,\n",
              "           0.0000, 0.0000, 0.0000, 0.0000, 0.0000, 0.0000, 0.0000, 0.0000,\n",
              "           0.0000, 0.0000, 0.0000, 0.0000, 0.0000, 0.0000, 0.0000, 0.0000,\n",
              "           0.0000, 0.0000, 0.0000, 0.0000],\n",
              "          [0.0000, 0.0000, 0.0000, 0.0000, 0.0000, 0.0000, 0.0000, 0.0000,\n",
              "           0.0000, 0.0000, 0.0000, 0.0000, 0.0000, 0.0000, 0.0000, 0.0000,\n",
              "           0.0000, 0.0000, 0.0000, 0.0000, 0.0000, 0.0000, 0.0000, 0.0000,\n",
              "           0.0000, 0.0000, 0.0000, 0.0000],\n",
              "          [0.0000, 0.0000, 0.0000, 0.0000, 0.0000, 0.0000, 0.0000, 0.0000,\n",
              "           0.0000, 0.0000, 0.0000, 0.0000, 0.0039, 0.0000, 0.0000, 0.0510,\n",
              "           0.2863, 0.0000, 0.0000, 0.0039, 0.0157, 0.0000, 0.0000, 0.0000,\n",
              "           0.0000, 0.0039, 0.0039, 0.0000],\n",
              "          [0.0000, 0.0000, 0.0000, 0.0000, 0.0000, 0.0000, 0.0000, 0.0000,\n",
              "           0.0000, 0.0000, 0.0000, 0.0000, 0.0118, 0.0000, 0.1412, 0.5333,\n",
              "           0.4980, 0.2431, 0.2118, 0.0000, 0.0000, 0.0000, 0.0039, 0.0118,\n",
              "           0.0157, 0.0000, 0.0000, 0.0118],\n",
              "          [0.0000, 0.0000, 0.0000, 0.0000, 0.0000, 0.0000, 0.0000, 0.0000,\n",
              "           0.0000, 0.0000, 0.0000, 0.0000, 0.0235, 0.0000, 0.4000, 0.8000,\n",
              "           0.6902, 0.5255, 0.5647, 0.4824, 0.0902, 0.0000, 0.0000, 0.0000,\n",
              "           0.0000, 0.0471, 0.0392, 0.0000],\n",
              "          [0.0000, 0.0000, 0.0000, 0.0000, 0.0000, 0.0000, 0.0000, 0.0000,\n",
              "           0.0000, 0.0000, 0.0000, 0.0000, 0.0000, 0.0000, 0.6078, 0.9255,\n",
              "           0.8118, 0.6980, 0.4196, 0.6118, 0.6314, 0.4275, 0.2510, 0.0902,\n",
              "           0.3020, 0.5098, 0.2824, 0.0588],\n",
              "          [0.0000, 0.0000, 0.0000, 0.0000, 0.0000, 0.0000, 0.0000, 0.0000,\n",
              "           0.0000, 0.0000, 0.0000, 0.0039, 0.0000, 0.2706, 0.8118, 0.8745,\n",
              "           0.8549, 0.8471, 0.8471, 0.6392, 0.4980, 0.4745, 0.4784, 0.5725,\n",
              "           0.5529, 0.3451, 0.6745, 0.2588],\n",
              "          [0.0000, 0.0000, 0.0000, 0.0000, 0.0000, 0.0000, 0.0000, 0.0000,\n",
              "           0.0000, 0.0039, 0.0039, 0.0039, 0.0000, 0.7843, 0.9098, 0.9098,\n",
              "           0.9137, 0.8980, 0.8745, 0.8745, 0.8431, 0.8353, 0.6431, 0.4980,\n",
              "           0.4824, 0.7686, 0.8980, 0.0000],\n",
              "          [0.0000, 0.0000, 0.0000, 0.0000, 0.0000, 0.0000, 0.0000, 0.0000,\n",
              "           0.0000, 0.0000, 0.0000, 0.0000, 0.0000, 0.7176, 0.8824, 0.8471,\n",
              "           0.8745, 0.8941, 0.9216, 0.8902, 0.8784, 0.8706, 0.8784, 0.8667,\n",
              "           0.8745, 0.9608, 0.6784, 0.0000],\n",
              "          [0.0000, 0.0000, 0.0000, 0.0000, 0.0000, 0.0000, 0.0000, 0.0000,\n",
              "           0.0000, 0.0000, 0.0000, 0.0000, 0.0000, 0.7569, 0.8941, 0.8549,\n",
              "           0.8353, 0.7765, 0.7059, 0.8314, 0.8235, 0.8275, 0.8353, 0.8745,\n",
              "           0.8627, 0.9529, 0.7922, 0.0000],\n",
              "          [0.0000, 0.0000, 0.0000, 0.0000, 0.0000, 0.0000, 0.0000, 0.0000,\n",
              "           0.0000, 0.0039, 0.0118, 0.0000, 0.0471, 0.8588, 0.8627, 0.8314,\n",
              "           0.8549, 0.7529, 0.6627, 0.8902, 0.8157, 0.8549, 0.8784, 0.8314,\n",
              "           0.8863, 0.7725, 0.8196, 0.2039],\n",
              "          [0.0000, 0.0000, 0.0000, 0.0000, 0.0000, 0.0000, 0.0000, 0.0000,\n",
              "           0.0000, 0.0000, 0.0235, 0.0000, 0.3882, 0.9569, 0.8706, 0.8627,\n",
              "           0.8549, 0.7961, 0.7765, 0.8667, 0.8431, 0.8353, 0.8706, 0.8627,\n",
              "           0.9608, 0.4667, 0.6549, 0.2196],\n",
              "          [0.0000, 0.0000, 0.0000, 0.0000, 0.0000, 0.0000, 0.0000, 0.0000,\n",
              "           0.0000, 0.0157, 0.0000, 0.0000, 0.2157, 0.9255, 0.8941, 0.9020,\n",
              "           0.8941, 0.9412, 0.9098, 0.8353, 0.8549, 0.8745, 0.9176, 0.8510,\n",
              "           0.8510, 0.8196, 0.3608, 0.0000],\n",
              "          [0.0000, 0.0000, 0.0039, 0.0157, 0.0235, 0.0275, 0.0078, 0.0000,\n",
              "           0.0000, 0.0000, 0.0000, 0.0000, 0.9294, 0.8863, 0.8510, 0.8745,\n",
              "           0.8706, 0.8588, 0.8706, 0.8667, 0.8471, 0.8745, 0.8980, 0.8431,\n",
              "           0.8549, 1.0000, 0.3020, 0.0000],\n",
              "          [0.0000, 0.0118, 0.0000, 0.0000, 0.0000, 0.0000, 0.0000, 0.0000,\n",
              "           0.0000, 0.2431, 0.5686, 0.8000, 0.8941, 0.8118, 0.8353, 0.8667,\n",
              "           0.8549, 0.8157, 0.8275, 0.8549, 0.8784, 0.8745, 0.8588, 0.8431,\n",
              "           0.8784, 0.9569, 0.6235, 0.0000],\n",
              "          [0.0000, 0.0000, 0.0000, 0.0000, 0.0706, 0.1725, 0.3216, 0.4196,\n",
              "           0.7412, 0.8941, 0.8627, 0.8706, 0.8510, 0.8863, 0.7843, 0.8039,\n",
              "           0.8275, 0.9020, 0.8784, 0.9176, 0.6902, 0.7373, 0.9804, 0.9725,\n",
              "           0.9137, 0.9333, 0.8431, 0.0000],\n",
              "          [0.0000, 0.2235, 0.7333, 0.8157, 0.8784, 0.8667, 0.8784, 0.8157,\n",
              "           0.8000, 0.8392, 0.8157, 0.8196, 0.7843, 0.6235, 0.9608, 0.7569,\n",
              "           0.8078, 0.8745, 1.0000, 1.0000, 0.8667, 0.9176, 0.8667, 0.8275,\n",
              "           0.8627, 0.9098, 0.9647, 0.0000],\n",
              "          [0.0118, 0.7922, 0.8941, 0.8784, 0.8667, 0.8275, 0.8275, 0.8392,\n",
              "           0.8039, 0.8039, 0.8039, 0.8627, 0.9412, 0.3137, 0.5882, 1.0000,\n",
              "           0.8980, 0.8667, 0.7373, 0.6039, 0.7490, 0.8235, 0.8000, 0.8196,\n",
              "           0.8706, 0.8941, 0.8824, 0.0000],\n",
              "          [0.3843, 0.9137, 0.7765, 0.8235, 0.8706, 0.8980, 0.8980, 0.9176,\n",
              "           0.9765, 0.8627, 0.7608, 0.8431, 0.8510, 0.9451, 0.2549, 0.2863,\n",
              "           0.4157, 0.4588, 0.6588, 0.8588, 0.8667, 0.8431, 0.8510, 0.8745,\n",
              "           0.8745, 0.8784, 0.8980, 0.1137],\n",
              "          [0.2941, 0.8000, 0.8314, 0.8000, 0.7569, 0.8039, 0.8275, 0.8824,\n",
              "           0.8471, 0.7255, 0.7725, 0.8078, 0.7765, 0.8353, 0.9412, 0.7647,\n",
              "           0.8902, 0.9608, 0.9373, 0.8745, 0.8549, 0.8314, 0.8196, 0.8706,\n",
              "           0.8627, 0.8667, 0.9020, 0.2627],\n",
              "          [0.1882, 0.7961, 0.7176, 0.7608, 0.8353, 0.7725, 0.7255, 0.7451,\n",
              "           0.7608, 0.7529, 0.7922, 0.8392, 0.8588, 0.8667, 0.8627, 0.9255,\n",
              "           0.8824, 0.8471, 0.7804, 0.8078, 0.7294, 0.7098, 0.6941, 0.6745,\n",
              "           0.7098, 0.8039, 0.8078, 0.4510],\n",
              "          [0.0000, 0.4784, 0.8588, 0.7569, 0.7020, 0.6706, 0.7176, 0.7686,\n",
              "           0.8000, 0.8235, 0.8353, 0.8118, 0.8275, 0.8235, 0.7843, 0.7686,\n",
              "           0.7608, 0.7490, 0.7647, 0.7490, 0.7765, 0.7529, 0.6902, 0.6118,\n",
              "           0.6549, 0.6941, 0.8235, 0.3608],\n",
              "          [0.0000, 0.0000, 0.2902, 0.7412, 0.8314, 0.7490, 0.6863, 0.6745,\n",
              "           0.6863, 0.7098, 0.7255, 0.7373, 0.7412, 0.7373, 0.7569, 0.7765,\n",
              "           0.8000, 0.8196, 0.8235, 0.8235, 0.8275, 0.7373, 0.7373, 0.7608,\n",
              "           0.7529, 0.8471, 0.6667, 0.0000],\n",
              "          [0.0078, 0.0000, 0.0000, 0.0000, 0.2588, 0.7843, 0.8706, 0.9294,\n",
              "           0.9373, 0.9490, 0.9647, 0.9529, 0.9569, 0.8667, 0.8627, 0.7569,\n",
              "           0.7490, 0.7020, 0.7137, 0.7137, 0.7098, 0.6902, 0.6510, 0.6588,\n",
              "           0.3882, 0.2275, 0.0000, 0.0000],\n",
              "          [0.0000, 0.0000, 0.0000, 0.0000, 0.0000, 0.0000, 0.0000, 0.1569,\n",
              "           0.2392, 0.1725, 0.2824, 0.1608, 0.1373, 0.0000, 0.0000, 0.0000,\n",
              "           0.0000, 0.0000, 0.0000, 0.0000, 0.0000, 0.0000, 0.0000, 0.0000,\n",
              "           0.0000, 0.0000, 0.0000, 0.0000],\n",
              "          [0.0000, 0.0000, 0.0000, 0.0000, 0.0000, 0.0000, 0.0000, 0.0000,\n",
              "           0.0000, 0.0000, 0.0000, 0.0000, 0.0000, 0.0000, 0.0000, 0.0000,\n",
              "           0.0000, 0.0000, 0.0000, 0.0000, 0.0000, 0.0000, 0.0000, 0.0000,\n",
              "           0.0000, 0.0000, 0.0000, 0.0000],\n",
              "          [0.0000, 0.0000, 0.0000, 0.0000, 0.0000, 0.0000, 0.0000, 0.0000,\n",
              "           0.0000, 0.0000, 0.0000, 0.0000, 0.0000, 0.0000, 0.0000, 0.0000,\n",
              "           0.0000, 0.0000, 0.0000, 0.0000, 0.0000, 0.0000, 0.0000, 0.0000,\n",
              "           0.0000, 0.0000, 0.0000, 0.0000]]]),\n",
              " 9)"
            ]
          },
          "metadata": {},
          "execution_count": 206
        }
      ]
    },
    {
      "cell_type": "code",
      "source": [
        "image.shape , label"
      ],
      "metadata": {
        "colab": {
          "base_uri": "https://localhost:8080/"
        },
        "id": "4i_RLKrVDDw2",
        "outputId": "0d6c747f-eea7-4b3d-f615-c061042ac28a"
      },
      "execution_count": 207,
      "outputs": [
        {
          "output_type": "execute_result",
          "data": {
            "text/plain": [
              "(torch.Size([1, 28, 28]), 9)"
            ]
          },
          "metadata": {},
          "execution_count": 207
        }
      ]
    },
    {
      "cell_type": "code",
      "source": [
        "len(train_data.data) , len(train_data.targets) , len(test_data.data) , len(test_data.targets)"
      ],
      "metadata": {
        "colab": {
          "base_uri": "https://localhost:8080/"
        },
        "id": "r0hg6f5oDI7b",
        "outputId": "edb7a22b-c3a8-48df-ecfb-2870f51f3ddd"
      },
      "execution_count": 208,
      "outputs": [
        {
          "output_type": "execute_result",
          "data": {
            "text/plain": [
              "(60000, 60000, 10000, 10000)"
            ]
          },
          "metadata": {},
          "execution_count": 208
        }
      ]
    },
    {
      "cell_type": "code",
      "source": [
        "class_names = train_data.classes\n",
        "class_names"
      ],
      "metadata": {
        "colab": {
          "base_uri": "https://localhost:8080/"
        },
        "id": "X_wW6fGfDrVX",
        "outputId": "83eab69e-2711-412a-a40c-9c5aea5554a5"
      },
      "execution_count": 209,
      "outputs": [
        {
          "output_type": "execute_result",
          "data": {
            "text/plain": [
              "['T-shirt/top',\n",
              " 'Trouser',\n",
              " 'Pullover',\n",
              " 'Dress',\n",
              " 'Coat',\n",
              " 'Sandal',\n",
              " 'Shirt',\n",
              " 'Sneaker',\n",
              " 'Bag',\n",
              " 'Ankle boot']"
            ]
          },
          "metadata": {},
          "execution_count": 209
        }
      ]
    },
    {
      "cell_type": "code",
      "source": [
        "image , label = train_data[0]\n",
        "plt.imshow(image.squeeze())\n",
        "plt.title(class_names[label])"
      ],
      "metadata": {
        "colab": {
          "base_uri": "https://localhost:8080/",
          "height": 469
        },
        "id": "3yoz0vplDrXr",
        "outputId": "cbcd5f1b-bf77-46c1-9884-c632631af0df"
      },
      "execution_count": 210,
      "outputs": [
        {
          "output_type": "execute_result",
          "data": {
            "text/plain": [
              "Text(0.5, 1.0, 'Ankle boot')"
            ]
          },
          "metadata": {},
          "execution_count": 210
        },
        {
          "output_type": "display_data",
          "data": {
            "text/plain": [
              "<Figure size 640x480 with 1 Axes>"
            ],
            "image/png": "[encoded data removed]"
          },
          "metadata": {}
        }
      ]
    },
    {
      "cell_type": "code",
      "source": [
        "image , label = train_data[0]\n",
        "plt.imshow(image.squeeze(),cmap='gray')\n",
        "plt.title(class_names[label])"
      ],
      "metadata": {
        "colab": {
          "base_uri": "https://localhost:8080/",
          "height": 469
        },
        "id": "9w6S89wbDra9",
        "outputId": "6cc943d5-543d-4cd8-9d40-6769d3d503e0"
      },
      "execution_count": 211,
      "outputs": [
        {
          "output_type": "execute_result",
          "data": {
            "text/plain": [
              "Text(0.5, 1.0, 'Ankle boot')"
            ]
          },
          "metadata": {},
          "execution_count": 211
        },
        {
          "output_type": "display_data",
          "data": {
            "text/plain": [
              "<Figure size 640x480 with 1 Axes>"
            ],
            "image/png": "[encoded data removed]"
          },
          "metadata": {}
        }
      ]
    },
    {
      "cell_type": "code",
      "source": [
        "torch.manual_seed(42)\n",
        "fig = plt.figure(figsize=(9, 9))\n",
        "rows, cols = 4, 4\n",
        "for i in range(1, rows * cols + 1):\n",
        "    random_idx = torch.randint(0, len(train_data), size=[1]).item()\n",
        "    img, label = train_data[random_idx]\n",
        "    fig.add_subplot(rows, cols, i)\n",
        "    plt.imshow(img.squeeze(), cmap=\"gray\")\n",
        "    plt.title(class_names[label])\n",
        "    plt.axis(False)"
      ],
      "metadata": {
        "colab": {
          "base_uri": "https://localhost:8080/",
          "height": 664
        },
        "id": "YVne7TB-Drqe",
        "outputId": "6797f8b1-546e-4905-8254-2f692faa652a"
      },
      "execution_count": 212,
      "outputs": [
        {
          "output_type": "display_data",
          "data": {
            "text/plain": [
              "<Figure size 900x900 with 16 Axes>"
            ],
            "image/png": "[encoded data removed]"
          },
          "metadata": {}
        }
      ]
    },
    {
      "cell_type": "code",
      "source": [
        "from torch.utils.data import DataLoader\n",
        "\n",
        "BATCHSIZE = 32\n",
        "\n",
        "train_dataloader = DataLoader(train_data,batch_size = BATCHSIZE,shuffle=True)\n",
        "test_dataloader = DataLoader(test_data,batch_size=BATCHSIZE,shuffle=False)"
      ],
      "metadata": {
        "id": "gsZxugzgDr2I"
      },
      "execution_count": 213,
      "outputs": []
    },
    {
      "cell_type": "code",
      "source": [
        "train_dataloader , test_dataloader"
      ],
      "metadata": {
        "colab": {
          "base_uri": "https://localhost:8080/"
        },
        "id": "QvsHO3VdDr5j",
        "outputId": "7d1b8b2a-e65f-4b01-f9e4-706c2953e474"
      },
      "execution_count": 214,
      "outputs": [
        {
          "output_type": "execute_result",
          "data": {
            "text/plain": [
              "(<torch.utils.data.dataloader.DataLoader at 0x788a56190cd0>,\n",
              " <torch.utils.data.dataloader.DataLoader at 0x788a56192ad0>)"
            ]
          },
          "metadata": {},
          "execution_count": 214
        }
      ]
    },
    {
      "cell_type": "code",
      "source": [
        "len(train_dataloader) , len(test_dataloader)"
      ],
      "metadata": {
        "colab": {
          "base_uri": "https://localhost:8080/"
        },
        "id": "mQYp1zgrDsE7",
        "outputId": "88b8d40b-0574-408c-9ca8-9f6780a97b29"
      },
      "execution_count": 215,
      "outputs": [
        {
          "output_type": "execute_result",
          "data": {
            "text/plain": [
              "(1875, 313)"
            ]
          },
          "metadata": {},
          "execution_count": 215
        }
      ]
    },
    {
      "cell_type": "code",
      "source": [
        "1875 * 32 #train dataloader * batch size = train data"
      ],
      "metadata": {
        "colab": {
          "base_uri": "https://localhost:8080/"
        },
        "id": "O_g1_8JLDsR5",
        "outputId": "e5ffe732-326c-44ff-b94d-5f259e77bfee"
      },
      "execution_count": 216,
      "outputs": [
        {
          "output_type": "execute_result",
          "data": {
            "text/plain": [
              "60000"
            ]
          },
          "metadata": {},
          "execution_count": 216
        }
      ]
    },
    {
      "cell_type": "code",
      "source": [
        "313 * 32 #test dataloader * batch size = test data"
      ],
      "metadata": {
        "colab": {
          "base_uri": "https://localhost:8080/"
        },
        "id": "boGiLrwXIl_c",
        "outputId": "d7986590-e6ad-4229-beca-95960666d000"
      },
      "execution_count": 217,
      "outputs": [
        {
          "output_type": "execute_result",
          "data": {
            "text/plain": [
              "10016"
            ]
          },
          "metadata": {},
          "execution_count": 217
        }
      ]
    },
    {
      "cell_type": "code",
      "source": [
        "train_image_batch , train_label_batch = next(iter(train_dataloader))"
      ],
      "metadata": {
        "id": "nDjyW9NIInEl"
      },
      "execution_count": 218,
      "outputs": []
    },
    {
      "cell_type": "code",
      "source": [
        "train_image_batch.shape , train_label_batch.shape"
      ],
      "metadata": {
        "colab": {
          "base_uri": "https://localhost:8080/"
        },
        "id": "46-J1rHXJFks",
        "outputId": "f94b56a3-6f0e-46b9-f752-f112b36e5349"
      },
      "execution_count": 219,
      "outputs": [
        {
          "output_type": "execute_result",
          "data": {
            "text/plain": [
              "(torch.Size([32, 1, 28, 28]), torch.Size([32]))"
            ]
          },
          "metadata": {},
          "execution_count": 219
        }
      ]
    },
    {
      "cell_type": "code",
      "source": [
        "flatten = nn.Flatten()\n",
        "\n",
        "x = train_image_batch[0]\n",
        "flattened_x = flatten(x)\n",
        "\n",
        "x.shape , flattened_x.shape #784 = height * width"
      ],
      "metadata": {
        "colab": {
          "base_uri": "https://localhost:8080/"
        },
        "id": "LdCzEvwsJY0S",
        "outputId": "a33683ff-add3-4da3-d31c-6af84da8048a"
      },
      "execution_count": 220,
      "outputs": [
        {
          "output_type": "execute_result",
          "data": {
            "text/plain": [
              "(torch.Size([1, 28, 28]), torch.Size([1, 784]))"
            ]
          },
          "metadata": {},
          "execution_count": 220
        }
      ]
    },
    {
      "cell_type": "code",
      "source": [
        "28*28"
      ],
      "metadata": {
        "colab": {
          "base_uri": "https://localhost:8080/"
        },
        "id": "TJu4hfYwKFFt",
        "outputId": "3a96b7b3-f08c-47c6-cb98-1ea9613a03bf"
      },
      "execution_count": 221,
      "outputs": [
        {
          "output_type": "execute_result",
          "data": {
            "text/plain": [
              "784"
            ]
          },
          "metadata": {},
          "execution_count": 221
        }
      ]
    },
    {
      "cell_type": "code",
      "source": [
        "class LinearClassificationOnImageDataset(nn.Module):\n",
        "  def __init__(self):\n",
        "    super().__init__()\n",
        "    self.layer = nn.Sequential(\n",
        "        nn.Flatten(),\n",
        "        nn.Linear(in_features=784,out_features=10),\n",
        "        nn.Linear(in_features=10,out_features=len(class_names))\n",
        "    )\n",
        "  def forward(self , x):\n",
        "    return self.layer(x)\n",
        "\n",
        "model0 = LinearClassificationOnImageDataset()"
      ],
      "metadata": {
        "id": "fT18jrHyKTVN"
      },
      "execution_count": 222,
      "outputs": []
    },
    {
      "cell_type": "code",
      "source": [
        "model0"
      ],
      "metadata": {
        "colab": {
          "base_uri": "https://localhost:8080/"
        },
        "id": "VwekDvkWKnXA",
        "outputId": "550cbb89-d5c3-410e-a7de-c7222961e637"
      },
      "execution_count": 223,
      "outputs": [
        {
          "output_type": "execute_result",
          "data": {
            "text/plain": [
              "LinearClassificationOnImageDataset(\n",
              "  (layer): Sequential(\n",
              "    (0): Flatten(start_dim=1, end_dim=-1)\n",
              "    (1): Linear(in_features=784, out_features=10, bias=True)\n",
              "    (2): Linear(in_features=10, out_features=10, bias=True)\n",
              "  )\n",
              ")"
            ]
          },
          "metadata": {},
          "execution_count": 223
        }
      ]
    },
    {
      "cell_type": "code",
      "source": [
        "import requests\n",
        "from pathlib import Path\n",
        "\n",
        "# Download helper functions from Learn PyTorch repo (if not already downloaded)\n",
        "if Path(\"helper_functions.py\").is_file():\n",
        "  print(\"helper_functions.py already exists, skipping download\")\n",
        "else:\n",
        "  print(\"Downloading helper_functions.py\")\n",
        "  # Note: you need the \"raw\" GitHub URL for this to work\n",
        "  request = requests.get(\"https://raw.githubusercontent.com/mrdbourke/pytorch-deep-learning/main/helper_functions.py\")\n",
        "  with open(\"helper_functions.py\", \"wb\") as f:\n",
        "    f.write(request.content)\n",
        "\n",
        "from helper_functions import accuracy_fn"
      ],
      "metadata": {
        "colab": {
          "base_uri": "https://localhost:8080/"
        },
        "id": "_owmmbbALiqA",
        "outputId": "03c851cc-31f0-489d-8ae5-43ba5bc99e36"
      },
      "execution_count": 224,
      "outputs": [
        {
          "output_type": "stream",
          "name": "stdout",
          "text": [
            "helper_functions.py already exists, skipping download\n"
          ]
        }
      ]
    },
    {
      "cell_type": "code",
      "source": [
        "lossfn = nn.CrossEntropyLoss()\n",
        "optimiser = torch.optim.SGD(params = model0.parameters() , lr = 0.1)"
      ],
      "metadata": {
        "id": "R5BU35WWLqY3"
      },
      "execution_count": 225,
      "outputs": []
    },
    {
      "cell_type": "code",
      "source": [
        "torch.manual_seed(42)\n",
        "\n",
        "epochs = 10\n",
        "\n",
        "for epoch in range(epochs):\n",
        "\n",
        "    trainloss = 0\n",
        "    trainacc = 0\n",
        "    for batch, (x, y) in enumerate(train_dataloader):\n",
        "        model0.train()\n",
        "\n",
        "        ypred = model0(x)\n",
        "\n",
        "        loss = lossfn(ypred, y)\n",
        "        trainloss += loss\n",
        "        trainacc += accuracy_fn(y_true=y, y_pred=ypred.argmax(dim=1))\n",
        "\n",
        "        optimiser.zero_grad()\n",
        "\n",
        "        loss.backward()\n",
        "\n",
        "        optimiser.step()\n",
        "\n",
        "    trainloss /= len(train_dataloader)\n",
        "    trainacc /= len(train_dataloader)\n",
        "\n",
        "    testloss, testacc = 0, 0\n",
        "    model0.eval()\n",
        "    with torch.inference_mode():\n",
        "        for x, y in test_dataloader:\n",
        "\n",
        "            testpred = model0(x)\n",
        "\n",
        "            testloss += lossfn(testpred, y)\n",
        "\n",
        "            testacc += accuracy_fn(y_true=y, y_pred=testpred.argmax(dim=1))\n",
        "\n",
        "        testloss /= len(test_dataloader)\n",
        "\n",
        "        testacc /= len(test_dataloader)\n",
        "\n",
        "    print(f\"Train loss: {trainloss} | Test loss: {testloss} | Train Accuracy : {trainacc} | Test Accuracy : {testacc} \")\n"
      ],
      "metadata": {
        "colab": {
          "base_uri": "https://localhost:8080/"
        },
        "id": "1BGPXTREMAGW",
        "outputId": "a1400023-2048-45c9-e02f-d0a44e9f61b9"
      },
      "execution_count": 226,
      "outputs": [
        {
          "output_type": "stream",
          "name": "stdout",
          "text": [
            "Train loss: 0.5890565514564514 | Test loss: 0.5080767869949341 | Train Accuracy : 79.10166666666667 | Test Accuracy : 82.20846645367412 \n",
            "Train loss: 0.47704583406448364 | Test loss: 0.48183298110961914 | Train Accuracy : 83.3 | Test Accuracy : 82.93730031948881 \n",
            "Train loss: 0.45532429218292236 | Test loss: 0.47895535826683044 | Train Accuracy : 84.02166666666666 | Test Accuracy : 83.38658146964856 \n",
            "Train loss: 0.4425123631954193 | Test loss: 0.46280863881111145 | Train Accuracy : 84.44333333333333 | Test Accuracy : 83.64616613418531 \n",
            "Train loss: 0.4359712302684784 | Test loss: 0.4682779014110565 | Train Accuracy : 84.63333333333334 | Test Accuracy : 83.41653354632588 \n",
            "Train loss: 0.4292164742946625 | Test loss: 0.4591047465801239 | Train Accuracy : 85.01333333333334 | Test Accuracy : 83.80591054313099 \n",
            "Train loss: 0.42474231123924255 | Test loss: 0.4887252151966095 | Train Accuracy : 85.17333333333333 | Test Accuracy : 83.31669329073482 \n",
            "Train loss: 0.4227548837661743 | Test loss: 0.47299760580062866 | Train Accuracy : 85.01666666666667 | Test Accuracy : 83.39656549520767 \n",
            "Train loss: 0.42032405734062195 | Test loss: 0.4723621904850006 | Train Accuracy : 85.23333333333333 | Test Accuracy : 83.55630990415335 \n",
            "Train loss: 0.4175107479095459 | Test loss: 0.46226072311401367 | Train Accuracy : 85.28166666666667 | Test Accuracy : 83.6361821086262 \n"
          ]
        }
      ]
    },
    {
      "cell_type": "code",
      "source": [
        "trainacc"
      ],
      "metadata": {
        "colab": {
          "base_uri": "https://localhost:8080/"
        },
        "id": "NT3cXs8iOb4e",
        "outputId": "48c39a5a-385d-4924-8037-7cfd1bf48268"
      },
      "execution_count": 227,
      "outputs": [
        {
          "output_type": "execute_result",
          "data": {
            "text/plain": [
              "85.28166666666667"
            ]
          },
          "metadata": {},
          "execution_count": 227
        }
      ]
    },
    {
      "cell_type": "code",
      "source": [
        "testacc"
      ],
      "metadata": {
        "colab": {
          "base_uri": "https://localhost:8080/"
        },
        "id": "6CX677otPoJq",
        "outputId": "898c4808-beb3-4f3e-ca97-7f53c64313c3"
      },
      "execution_count": 228,
      "outputs": [
        {
          "output_type": "execute_result",
          "data": {
            "text/plain": [
              "83.6361821086262"
            ]
          },
          "metadata": {},
          "execution_count": 228
        }
      ]
    },
    {
      "cell_type": "code",
      "source": [
        "#using non linearity"
      ],
      "metadata": {
        "id": "yKNOhIAgPo8M"
      },
      "execution_count": 229,
      "outputs": []
    },
    {
      "cell_type": "code",
      "source": [
        "class ClassificationUsingNonLinearity(nn.Module):\n",
        "  def __init__(self):\n",
        "    super().__init__()\n",
        "    self.layer = nn.Sequential(\n",
        "        nn.Flatten(),\n",
        "        nn.Linear(in_features=784,out_features=10),\n",
        "        nn.ReLU(),\n",
        "        nn.Linear(in_features=10,out_features=len(class_names)),\n",
        "        nn.ReLU()\n",
        "    )\n",
        "\n",
        "  def forward(self , x):\n",
        "    return self.layer(x)\n",
        "\n",
        "model1 = ClassificationUsingNonLinearity()"
      ],
      "metadata": {
        "id": "cNF509xBZ_dR"
      },
      "execution_count": 230,
      "outputs": []
    },
    {
      "cell_type": "code",
      "source": [
        "model1"
      ],
      "metadata": {
        "colab": {
          "base_uri": "https://localhost:8080/"
        },
        "id": "RNJ_yumUa7YN",
        "outputId": "ba090cc8-b2cd-4445-e914-07a68013a613"
      },
      "execution_count": 231,
      "outputs": [
        {
          "output_type": "execute_result",
          "data": {
            "text/plain": [
              "ClassificationUsingNonLinearity(\n",
              "  (layer): Sequential(\n",
              "    (0): Flatten(start_dim=1, end_dim=-1)\n",
              "    (1): Linear(in_features=784, out_features=10, bias=True)\n",
              "    (2): ReLU()\n",
              "    (3): Linear(in_features=10, out_features=10, bias=True)\n",
              "    (4): ReLU()\n",
              "  )\n",
              ")"
            ]
          },
          "metadata": {},
          "execution_count": 231
        }
      ]
    },
    {
      "cell_type": "code",
      "source": [
        "loss_fn = nn.CrossEntropyLoss()\n",
        "optimiser = torch.optim.SGD(params=model1.parameters(),lr=0.1)"
      ],
      "metadata": {
        "id": "Pr7W4AGjaBlx"
      },
      "execution_count": 232,
      "outputs": []
    },
    {
      "cell_type": "code",
      "source": [
        "torch.manual_seed(42)\n",
        "\n",
        "epochs = 10\n",
        "\n",
        "for epoch in range(epochs):\n",
        "\n",
        "    trainloss = 0\n",
        "    trainacc = 0\n",
        "    for batch, (x, y) in enumerate(train_dataloader):\n",
        "        model1.train()\n",
        "\n",
        "        ypred = model1(x)\n",
        "\n",
        "        loss = lossfn(ypred, y)\n",
        "        trainloss += loss\n",
        "        trainacc += accuracy_fn(y_true=y, y_pred=ypred.argmax(dim=1))\n",
        "\n",
        "        optimiser.zero_grad()\n",
        "\n",
        "        loss.backward()\n",
        "\n",
        "        optimiser.step()\n",
        "\n",
        "    trainloss /= len(train_dataloader)\n",
        "    trainacc /= len(train_dataloader)\n",
        "\n",
        "    testloss, testacc = 0, 0\n",
        "    model1.eval()\n",
        "    with torch.inference_mode():\n",
        "        for x, y in test_dataloader:\n",
        "\n",
        "            testpred = model1(x)\n",
        "\n",
        "            testloss += lossfn(testpred, y)\n",
        "\n",
        "            testacc += accuracy_fn(y_true=y, y_pred=testpred.argmax(dim=1))\n",
        "\n",
        "        testloss /= len(test_dataloader)\n",
        "\n",
        "        testacc /= len(test_dataloader)\n",
        "\n",
        "    print(f\"Train loss: {trainloss} | Test loss: {testloss} | Train Accuracy : {trainacc} | Test Accuracy : {testacc} \")\n"
      ],
      "metadata": {
        "colab": {
          "base_uri": "https://localhost:8080/"
        },
        "id": "NUFRSBy9bKFD",
        "outputId": "52651169-11fc-4e40-e52f-89fde74bc0fe"
      },
      "execution_count": 233,
      "outputs": [
        {
          "output_type": "stream",
          "name": "stdout",
          "text": [
            "Train loss: 0.8335872292518616 | Test loss: 0.5096576809883118 | Train Accuracy : 69.56333333333333 | Test Accuracy : 81.96884984025559 \n",
            "Train loss: 0.48884913325309753 | Test loss: 0.5071532726287842 | Train Accuracy : 82.49166666666666 | Test Accuracy : 81.87899361022365 \n",
            "Train loss: 0.4561465084552765 | Test loss: 0.47994813323020935 | Train Accuracy : 83.495 | Test Accuracy : 83.0870607028754 \n",
            "Train loss: 0.436858594417572 | Test loss: 0.46138322353363037 | Train Accuracy : 84.06833333333333 | Test Accuracy : 83.34664536741214 \n",
            "Train loss: 0.4269719421863556 | Test loss: 0.5124261379241943 | Train Accuracy : 84.29833333333333 | Test Accuracy : 80.84065495207668 \n",
            "Train loss: 0.4176119565963745 | Test loss: 0.44492629170417786 | Train Accuracy : 84.68333333333334 | Test Accuracy : 83.92571884984025 \n",
            "Train loss: 0.41154226660728455 | Test loss: 0.4635468125343323 | Train Accuracy : 84.9 | Test Accuracy : 83.49640575079871 \n",
            "Train loss: 0.4062603712081909 | Test loss: 0.4529901146888733 | Train Accuracy : 85.09833333333333 | Test Accuracy : 83.8158945686901 \n",
            "Train loss: 0.40211397409439087 | Test loss: 0.4338128864765167 | Train Accuracy : 85.17666666666666 | Test Accuracy : 84.29512779552715 \n",
            "Train loss: 0.39811018109321594 | Test loss: 0.43619304895401 | Train Accuracy : 85.405 | Test Accuracy : 84.16533546325878 \n"
          ]
        }
      ]
    },
    {
      "cell_type": "code",
      "source": [
        "class CNN(nn.Module):\n",
        "  def __init__(self):\n",
        "    super().__init__()\n",
        "    self.block1 = nn.Sequential(\n",
        "        nn.Conv2d(in_channels=1,out_channels=10,kernel_size=3,stride=1,padding=1),\n",
        "        nn.ReLU(),\n",
        "        nn.Conv2d(in_channels=10,out_channels=10,kernel_size=3,stride=1,padding=1),\n",
        "        nn.ReLU(),\n",
        "        nn.MaxPool2d(kernel_size=2,stride=2)\n",
        "    )\n",
        "    self.block2 = nn.Sequential(\n",
        "        nn.Conv2d(in_channels=10,out_channels=10,kernel_size=3,stride=1,padding=1),\n",
        "        nn.ReLU(),\n",
        "        nn.Conv2d(in_channels=10,out_channels=10,kernel_size=3,stride=1,padding=1),\n",
        "        nn.ReLU(),\n",
        "        nn.MaxPool2d(2)\n",
        "    )\n",
        "    self.classifier = nn.Sequential(\n",
        "        nn.Flatten(),\n",
        "        nn.Linear(in_features=10*49,out_features=len(class_names))\n",
        "    )\n",
        "  def forward(self , x):\n",
        "    x=self.block1(x)\n",
        "    x=self.block2(x)\n",
        "    x=self.classifier(x)\n",
        "    return x\n",
        "\n",
        "model2 = CNN()"
      ],
      "metadata": {
        "id": "EJ-xljyhbOjA"
      },
      "execution_count": 234,
      "outputs": []
    },
    {
      "cell_type": "code",
      "source": [
        "model2"
      ],
      "metadata": {
        "colab": {
          "base_uri": "https://localhost:8080/"
        },
        "id": "lpKyz8KIbOoN",
        "outputId": "f94e2001-b598-41ab-9d9f-099f4dd9d33a"
      },
      "execution_count": 235,
      "outputs": [
        {
          "output_type": "execute_result",
          "data": {
            "text/plain": [
              "CNN(\n",
              "  (block1): Sequential(\n",
              "    (0): Conv2d(1, 10, kernel_size=(3, 3), stride=(1, 1), padding=(1, 1))\n",
              "    (1): ReLU()\n",
              "    (2): Conv2d(10, 10, kernel_size=(3, 3), stride=(1, 1), padding=(1, 1))\n",
              "    (3): ReLU()\n",
              "    (4): MaxPool2d(kernel_size=2, stride=2, padding=0, dilation=1, ceil_mode=False)\n",
              "  )\n",
              "  (block2): Sequential(\n",
              "    (0): Conv2d(10, 10, kernel_size=(3, 3), stride=(1, 1), padding=(1, 1))\n",
              "    (1): ReLU()\n",
              "    (2): Conv2d(10, 10, kernel_size=(3, 3), stride=(1, 1), padding=(1, 1))\n",
              "    (3): ReLU()\n",
              "    (4): MaxPool2d(kernel_size=2, stride=2, padding=0, dilation=1, ceil_mode=False)\n",
              "  )\n",
              "  (classifier): Sequential(\n",
              "    (0): Flatten(start_dim=1, end_dim=-1)\n",
              "    (1): Linear(in_features=490, out_features=10, bias=True)\n",
              "  )\n",
              ")"
            ]
          },
          "metadata": {},
          "execution_count": 235
        }
      ]
    },
    {
      "cell_type": "code",
      "source": [
        "torch.manual_seed(42)\n",
        "images = torch.randn(size=(32,3,64,64))\n",
        "imagetemp = images[0]\n",
        "images.shape , imagetemp.shape"
      ],
      "metadata": {
        "colab": {
          "base_uri": "https://localhost:8080/"
        },
        "id": "OclJdpLmbOsw",
        "outputId": "33fa8135-4be7-4fbc-b04a-8ea84c9ef7f1"
      },
      "execution_count": 236,
      "outputs": [
        {
          "output_type": "execute_result",
          "data": {
            "text/plain": [
              "(torch.Size([32, 3, 64, 64]), torch.Size([3, 64, 64]))"
            ]
          },
          "metadata": {},
          "execution_count": 236
        }
      ]
    },
    {
      "cell_type": "code",
      "source": [
        "lossfn = nn.CrossEntropyLoss()\n",
        "optimiser = torch.optim.SGD(params=model2.parameters(),lr=0.1)"
      ],
      "metadata": {
        "id": "HJB0aNEzbOv4"
      },
      "execution_count": 237,
      "outputs": []
    },
    {
      "cell_type": "code",
      "source": [
        "torch.manual_seed(42)\n",
        "\n",
        "epochs = 10\n",
        "\n",
        "for epoch in range(epochs):\n",
        "\n",
        "    trainloss = 0\n",
        "    trainacc = 0\n",
        "    for batch, (x, y) in enumerate(train_dataloader):\n",
        "        model2.train()\n",
        "\n",
        "        ypred = model2(x)\n",
        "\n",
        "        loss = lossfn(ypred, y)\n",
        "        trainloss += loss\n",
        "        trainacc += accuracy_fn(y_true=y, y_pred=ypred.argmax(dim=1))\n",
        "\n",
        "        optimiser.zero_grad()\n",
        "\n",
        "        loss.backward()\n",
        "\n",
        "        optimiser.step()\n",
        "\n",
        "    trainloss /= len(train_dataloader)\n",
        "    trainacc /= len(train_dataloader)\n",
        "\n",
        "    testloss, testacc = 0, 0\n",
        "    model2.eval()\n",
        "    with torch.inference_mode():\n",
        "        for x, y in test_dataloader:\n",
        "\n",
        "            testpred = model2(x)\n",
        "\n",
        "            testloss += lossfn(testpred, y)\n",
        "\n",
        "            testacc += accuracy_fn(y_true=y, y_pred=testpred.argmax(dim=1))\n",
        "\n",
        "        testloss /= len(test_dataloader)\n",
        "\n",
        "        testacc /= len(test_dataloader)\n",
        "\n",
        "    print(f\"Train loss: {trainloss} | Test loss: {testloss} | Train Accuracy : {trainacc} | Test Accuracy : {testacc} \")\n"
      ],
      "metadata": {
        "colab": {
          "base_uri": "https://localhost:8080/"
        },
        "id": "HKXFxsqUK3gz",
        "outputId": "f74cbf2f-8d44-447c-c435-9ec7f7a553f4"
      },
      "execution_count": 238,
      "outputs": [
        {
          "output_type": "stream",
          "name": "stdout",
          "text": [
            "Train loss: 0.599373459815979 | Test loss: 0.39401736855506897 | Train Accuracy : 78.09166666666667 | Test Accuracy : 86.51158146964856 \n",
            "Train loss: 0.35342705249786377 | Test loss: 0.3392254412174225 | Train Accuracy : 87.25333333333333 | Test Accuracy : 87.40015974440895 \n",
            "Train loss: 0.318148136138916 | Test loss: 0.3205569088459015 | Train Accuracy : 88.585 | Test Accuracy : 88.4285143769968 \n",
            "Train loss: 0.2968829572200775 | Test loss: 0.3101958632469177 | Train Accuracy : 89.26 | Test Accuracy : 88.83785942492013 \n",
            "Train loss: 0.28255435824394226 | Test loss: 0.2933026850223541 | Train Accuracy : 89.71166666666667 | Test Accuracy : 89.30710862619809 \n",
            "Train loss: 0.26900890469551086 | Test loss: 0.29502609372138977 | Train Accuracy : 90.32166666666667 | Test Accuracy : 89.48682108626198 \n",
            "Train loss: 0.26126042008399963 | Test loss: 0.29313039779663086 | Train Accuracy : 90.44666666666667 | Test Accuracy : 89.11741214057508 \n",
            "Train loss: 0.25518354773521423 | Test loss: 0.27402955293655396 | Train Accuracy : 90.77333333333333 | Test Accuracy : 90.09584664536742 \n",
            "Train loss: 0.24826951324939728 | Test loss: 0.2811461091041565 | Train Accuracy : 90.98 | Test Accuracy : 90.39536741214057 \n",
            "Train loss: 0.24374713003635406 | Test loss: 0.29402121901512146 | Train Accuracy : 91.11 | Test Accuracy : 89.80630990415335 \n"
          ]
        }
      ]
    },
    {
      "cell_type": "code",
      "source": [
        "#actual test image and label\n",
        "import random\n",
        "random.seed(42)\n",
        "test_image = []\n",
        "test_label = []\n",
        "for i , j in random.sample(list(test_data),k=9):\n",
        "  test_image.append(i)\n",
        "  test_label.append(j)"
      ],
      "metadata": {
        "id": "6uADbvMhK3jC"
      },
      "execution_count": 239,
      "outputs": []
    },
    {
      "cell_type": "code",
      "source": [
        "test_image , test_label"
      ],
      "metadata": {
        "colab": {
          "base_uri": "https://localhost:8080/"
        },
        "id": "OK8aPdglK3mY",
        "outputId": "b8ab5fcc-c397-482b-b0fa-7e7102f21c5e"
      },
      "execution_count": 240,
      "outputs": [
        {
          "output_type": "execute_result",
          "data": {
            "text/plain": [
              "([tensor([[[0.0000, 0.0000, 0.0000, 0.0000, 0.0000, 0.0000, 0.0000, 0.0000,\n",
              "            0.0000, 0.0000, 0.0000, 0.0000, 0.0000, 0.0000, 0.0000, 0.0000,\n",
              "            0.0000, 0.0000, 0.0000, 0.0000, 0.0000, 0.0000, 0.0000, 0.0000,\n",
              "            0.0000, 0.0000, 0.0000, 0.0000],\n",
              "           [0.0000, 0.0000, 0.0000, 0.0000, 0.0000, 0.0000, 0.0000, 0.0000,\n",
              "            0.0000, 0.0000, 0.0000, 0.0000, 0.0000, 0.0000, 0.0000, 0.0000,\n",
              "            0.0000, 0.0000, 0.0000, 0.0000, 0.0000, 0.0000, 0.0000, 0.0000,\n",
              "            0.0000, 0.0000, 0.0000, 0.0000],\n",
              "           [0.0000, 0.0000, 0.0000, 0.0000, 0.0000, 0.0000, 0.0000, 0.0000,\n",
              "            0.0000, 0.0000, 0.0000, 0.0000, 0.0000, 0.0000, 0.0000, 0.0000,\n",
              "            0.0000, 0.0000, 0.0000, 0.0000, 0.0000, 0.0000, 0.0000, 0.0000,\n",
              "            0.0000, 0.0000, 0.0000, 0.0000],\n",
              "           [0.0000, 0.0000, 0.0000, 0.0000, 0.0000, 0.0000, 0.0000, 0.0000,\n",
              "            0.0000, 0.0000, 0.0000, 0.0000, 0.0000, 0.0000, 0.0000, 0.0000,\n",
              "            0.0000, 0.0000, 0.0000, 0.0000, 0.0000, 0.0000, 0.0000, 0.0000,\n",
              "            0.0000, 0.0000, 0.0000, 0.0000],\n",
              "           [0.0000, 0.0000, 0.0000, 0.0000, 0.0000, 0.0000, 0.0000, 0.0000,\n",
              "            0.0000, 0.0000, 0.0000, 0.0000, 0.0000, 0.0000, 0.0000, 0.0000,\n",
              "            0.0000, 0.0000, 0.0000, 0.0000, 0.0000, 0.0000, 0.0000, 0.0000,\n",
              "            0.0000, 0.0000, 0.0000, 0.0000],\n",
              "           [0.0000, 0.0000, 0.0000, 0.0000, 0.0000, 0.0000, 0.0000, 0.0000,\n",
              "            0.0000, 0.0000, 0.0000, 0.0000, 0.0000, 0.0039, 0.0078, 0.0000,\n",
              "            0.0000, 0.0000, 0.0078, 0.0314, 0.0000, 0.0000, 0.0000, 0.0000,\n",
              "            0.2431, 0.0000, 0.0000, 0.0000],\n",
              "           [0.0000, 0.0000, 0.0000, 0.0000, 0.0000, 0.0000, 0.0000, 0.0000,\n",
              "            0.0000, 0.0000, 0.0000, 0.0000, 0.0039, 0.0000, 0.0000, 0.0157,\n",
              "            0.0039, 0.0196, 0.0000, 0.0000, 0.0000, 0.0000, 0.2863, 0.6824,\n",
              "            0.8902, 0.2745, 0.0000, 0.0196],\n",
              "           [0.0000, 0.0000, 0.0000, 0.0000, 0.0000, 0.0000, 0.0000, 0.0000,\n",
              "            0.0000, 0.0078, 0.0000, 0.0157, 0.0000, 0.0000, 0.0549, 0.0000,\n",
              "            0.0000, 0.0000, 0.0510, 0.1804, 0.1961, 0.8588, 0.9098, 0.8471,\n",
              "            0.8235, 0.8275, 0.0471, 0.0000],\n",
              "           [0.0000, 0.0000, 0.0000, 0.0000, 0.0000, 0.0000, 0.0000, 0.0000,\n",
              "            0.0000, 0.0000, 0.0157, 0.0000, 0.0000, 0.5373, 0.8392, 0.1843,\n",
              "            0.0000, 0.3843, 0.7725, 0.9804, 0.5451, 0.7961, 0.7176, 0.8157,\n",
              "            0.8667, 0.5804, 0.0000, 0.0000],\n",
              "           [0.0000, 0.0000, 0.0000, 0.0000, 0.0000, 0.0000, 0.0000, 0.0000,\n",
              "            0.0000, 0.0000, 0.0000, 0.0000, 0.4314, 0.7490, 0.6784, 0.9647,\n",
              "            0.5216, 0.9804, 0.7569, 0.6902, 0.6588, 0.6314, 0.8275, 0.8353,\n",
              "            0.1686, 0.0000, 0.0000, 0.0000],\n",
              "           [0.0000, 0.0000, 0.0000, 0.0000, 0.0000, 0.0000, 0.0000, 0.0000,\n",
              "            0.0000, 0.0078, 0.0000, 0.3176, 0.7843, 0.6588, 0.7412, 0.8196,\n",
              "            0.8941, 0.4902, 0.8863, 0.6431, 0.7529, 0.6353, 0.4745, 0.0000,\n",
              "            0.0000, 0.0000, 0.0000, 0.0000],\n",
              "           [0.0000, 0.0000, 0.0000, 0.0000, 0.0000, 0.0000, 0.0000, 0.0000,\n",
              "            0.0235, 0.0000, 0.1451, 0.8784, 0.6706, 0.7765, 0.7765, 0.6667,\n",
              "            0.7843, 0.7529, 0.5451, 0.2549, 0.0000, 0.0000, 0.0000, 0.0000,\n",
              "            0.0000, 0.0000, 0.0000, 0.0000],\n",
              "           [0.0000, 0.0000, 0.0000, 0.0000, 0.0000, 0.0118, 0.0196, 0.0078,\n",
              "            0.0000, 0.0000, 0.0000, 0.4706, 0.8706, 0.8118, 0.9059, 0.6627,\n",
              "            0.7529, 0.9451, 0.9804, 0.6235, 0.0000, 0.0000, 0.1922, 0.3216,\n",
              "            0.5529, 0.7216, 0.8549, 0.2510],\n",
              "           [0.0000, 0.0000, 0.0000, 0.0000, 0.0039, 0.0000, 0.0000, 0.0000,\n",
              "            0.0431, 0.0000, 0.0000, 0.0000, 0.5373, 1.0000, 0.8627, 0.9608,\n",
              "            0.9020, 0.8000, 0.7843, 0.9843, 0.8824, 0.9686, 1.0000, 0.9765,\n",
              "            0.8431, 0.8275, 0.8745, 0.3804],\n",
              "           [0.0118, 0.0196, 0.0196, 0.0039, 0.0000, 0.0588, 0.3294, 0.4588,\n",
              "            0.8353, 0.6039, 0.0000, 0.0000, 0.0000, 0.5020, 0.9922, 0.8000,\n",
              "            0.8157, 0.8392, 0.8667, 0.7804, 0.8196, 0.8078, 0.7647, 0.7529,\n",
              "            0.7529, 0.7725, 0.9294, 0.2667],\n",
              "           [0.0000, 0.0000, 0.0000, 0.0000, 0.0000, 0.5922, 0.5490, 0.4196,\n",
              "            0.5765, 1.0000, 0.0000, 0.0000, 0.0000, 0.0000, 0.5686, 0.9490,\n",
              "            0.7882, 0.7961, 0.7451, 0.7882, 0.7922, 0.7961, 0.7922, 0.8000,\n",
              "            0.8000, 0.7608, 0.9569, 0.2471],\n",
              "           [0.1098, 0.2431, 0.0941, 0.0039, 0.0000, 0.7333, 0.7333, 0.7882,\n",
              "            0.8392, 1.0000, 0.1176, 0.0000, 0.0000, 0.5333, 0.9569, 0.7686,\n",
              "            0.7529, 0.8588, 0.9961, 0.9059, 0.8235, 0.7922, 0.8039, 0.7922,\n",
              "            0.7882, 0.7608, 0.9490, 0.2392],\n",
              "           [0.4314, 0.8196, 0.8510, 0.7333, 0.4353, 0.8392, 1.0000, 0.8902,\n",
              "            0.9020, 0.7059, 0.3373, 0.6039, 0.9569, 0.9569, 0.7804, 0.8118,\n",
              "            1.0000, 0.8667, 0.3529, 0.1020, 0.8824, 0.7961, 0.7882, 0.7922,\n",
              "            0.7882, 0.7608, 0.9490, 0.2275],\n",
              "           [0.2431, 0.7804, 0.7804, 0.8196, 0.8706, 0.8000, 0.8078, 0.8118,\n",
              "            0.8196, 0.8627, 0.9333, 0.9412, 0.8039, 0.7725, 0.8353, 0.8667,\n",
              "            0.2941, 0.0000, 0.0000, 0.0000, 0.9608, 0.7686, 0.7882, 0.7922,\n",
              "            0.7843, 0.7569, 0.9451, 0.2118],\n",
              "           [0.3569, 0.8275, 0.7804, 0.7843, 0.7843, 0.8000, 0.7804, 0.8078,\n",
              "            0.7922, 0.7843, 0.7412, 0.7725, 0.7569, 0.8275, 0.5725, 0.0000,\n",
              "            0.0000, 0.0000, 0.0000, 0.0275, 0.9490, 0.7804, 0.7922, 0.7686,\n",
              "            0.7804, 0.7686, 0.9294, 0.1961],\n",
              "           [0.0784, 0.8314, 0.8784, 0.7961, 0.8667, 0.8196, 0.8235, 0.8078,\n",
              "            0.8000, 0.7961, 0.8118, 0.8039, 0.8745, 0.9647, 0.0588, 0.0000,\n",
              "            0.0196, 0.0039, 0.0000, 0.0000, 0.7569, 0.8039, 0.7804, 0.8510,\n",
              "            0.7804, 0.7451, 0.8157, 0.2078],\n",
              "           [0.0000, 0.0000, 0.0000, 0.3451, 0.5490, 0.8314, 0.7922, 1.0000,\n",
              "            0.9176, 0.9529, 0.8941, 0.8275, 0.3922, 0.0980, 0.0000, 0.0196,\n",
              "            0.0000, 0.0157, 0.0000, 0.0235, 1.0000, 0.6667, 1.0000, 0.6980,\n",
              "            0.9882, 0.8275, 1.0000, 0.2471],\n",
              "           [0.0078, 0.0000, 0.0000, 0.0000, 0.0000, 0.0000, 0.0000, 0.0980,\n",
              "            0.0314, 0.1333, 0.0000, 0.0000, 0.0000, 0.0000, 0.0000, 0.0000,\n",
              "            0.0000, 0.0118, 0.0000, 0.0000, 0.2510, 0.0000, 0.2000, 0.0000,\n",
              "            0.1373, 0.1922, 0.1294, 0.0000],\n",
              "           [0.0000, 0.0039, 0.0078, 0.0000, 0.0000, 0.0000, 0.0000, 0.0000,\n",
              "            0.0000, 0.0000, 0.0000, 0.0000, 0.0078, 0.0157, 0.0000, 0.0000,\n",
              "            0.0039, 0.0000, 0.0000, 0.0000, 0.0000, 0.0000, 0.0000, 0.0000,\n",
              "            0.0000, 0.0000, 0.0000, 0.0000],\n",
              "           [0.0000, 0.0000, 0.0000, 0.0000, 0.0000, 0.0000, 0.0000, 0.0000,\n",
              "            0.0000, 0.0000, 0.0000, 0.0000, 0.0000, 0.0000, 0.0000, 0.0000,\n",
              "            0.0000, 0.0000, 0.0000, 0.0000, 0.0000, 0.0000, 0.0000, 0.0000,\n",
              "            0.0000, 0.0000, 0.0000, 0.0000],\n",
              "           [0.0000, 0.0000, 0.0000, 0.0000, 0.0000, 0.0000, 0.0000, 0.0000,\n",
              "            0.0000, 0.0000, 0.0000, 0.0000, 0.0000, 0.0000, 0.0000, 0.0000,\n",
              "            0.0000, 0.0000, 0.0000, 0.0000, 0.0000, 0.0000, 0.0000, 0.0000,\n",
              "            0.0000, 0.0000, 0.0000, 0.0000],\n",
              "           [0.0000, 0.0000, 0.0000, 0.0000, 0.0000, 0.0000, 0.0000, 0.0000,\n",
              "            0.0000, 0.0000, 0.0000, 0.0000, 0.0000, 0.0000, 0.0000, 0.0000,\n",
              "            0.0000, 0.0000, 0.0000, 0.0000, 0.0000, 0.0000, 0.0000, 0.0000,\n",
              "            0.0000, 0.0000, 0.0000, 0.0000],\n",
              "           [0.0000, 0.0000, 0.0000, 0.0000, 0.0000, 0.0000, 0.0000, 0.0000,\n",
              "            0.0000, 0.0000, 0.0000, 0.0000, 0.0000, 0.0000, 0.0000, 0.0000,\n",
              "            0.0000, 0.0000, 0.0000, 0.0000, 0.0000, 0.0000, 0.0000, 0.0000,\n",
              "            0.0000, 0.0000, 0.0000, 0.0000]]]),\n",
              "  tensor([[[0.0000, 0.0000, 0.0000, 0.0000, 0.0000, 0.0000, 0.0000, 0.0000,\n",
              "            0.0000, 0.0039, 0.0000, 0.0471, 0.3373, 0.2471, 0.2392, 0.2431,\n",
              "            0.2353, 0.2471, 0.2392, 0.3255, 0.0824, 0.0000, 0.0000, 0.0000,\n",
              "            0.0000, 0.0000, 0.0000, 0.0000],\n",
              "           [0.0000, 0.0000, 0.0000, 0.0000, 0.0000, 0.0000, 0.0000, 0.0000,\n",
              "            0.0000, 0.0118, 0.0000, 0.1333, 0.5843, 0.4549, 0.4510, 0.4431,\n",
              "            0.4392, 0.4353, 0.4000, 0.4863, 0.2392, 0.0000, 0.0000, 0.0000,\n",
              "            0.0000, 0.0000, 0.0000, 0.0000],\n",
              "           [0.0000, 0.0000, 0.0000, 0.0000, 0.0000, 0.0000, 0.0000, 0.0000,\n",
              "            0.0000, 0.0000, 0.0000, 0.0000, 0.3137, 0.2196, 0.2471, 0.2510,\n",
              "            0.2549, 0.3137, 0.3216, 0.3843, 0.2275, 0.0000, 0.0000, 0.0000,\n",
              "            0.0000, 0.0000, 0.0000, 0.0000],\n",
              "           [0.0000, 0.0000, 0.0000, 0.0000, 0.0000, 0.0000, 0.0000, 0.0000,\n",
              "            0.1725, 0.6353, 0.5216, 0.6196, 0.7137, 0.6431, 0.6706, 0.6824,\n",
              "            0.6863, 0.3059, 0.3059, 0.3725, 0.2706, 0.0000, 0.0000, 0.0000,\n",
              "            0.0000, 0.0000, 0.0000, 0.0000],\n",
              "           [0.0000, 0.0000, 0.0000, 0.0000, 0.0000, 0.0000, 0.0000, 0.0000,\n",
              "            0.4941, 0.9647, 0.9059, 0.9059, 0.9569, 0.9137, 0.9255, 0.8706,\n",
              "            1.0000, 0.3647, 0.2667, 0.3569, 0.2863, 0.0000, 0.0000, 0.0000,\n",
              "            0.0000, 0.0000, 0.0000, 0.0000],\n",
              "           [0.0000, 0.0000, 0.0000, 0.0000, 0.0000, 0.0000, 0.0000, 0.0000,\n",
              "            0.5647, 0.8941, 0.8275, 0.8314, 0.8392, 0.8275, 0.8235, 0.8196,\n",
              "            0.9373, 0.4549, 0.2510, 0.3451, 0.2784, 0.0000, 0.0000, 0.0000,\n",
              "            0.0000, 0.0000, 0.0000, 0.0000],\n",
              "           [0.0000, 0.0000, 0.0000, 0.0000, 0.0000, 0.0000, 0.0000, 0.0000,\n",
              "            0.6627, 0.8941, 0.8196, 0.8588, 0.8235, 0.8392, 0.8431, 0.8078,\n",
              "            0.9294, 0.5059, 0.2235, 0.3490, 0.2471, 0.0000, 0.0000, 0.0000,\n",
              "            0.0000, 0.0000, 0.0000, 0.0000],\n",
              "           [0.0000, 0.0000, 0.0000, 0.0000, 0.0000, 0.0000, 0.0000, 0.0000,\n",
              "            0.6706, 0.8824, 0.8078, 0.8392, 0.8627, 0.8392, 0.8431, 0.7765,\n",
              "            0.9529, 0.5333, 0.2196, 0.3529, 0.2078, 0.0000, 0.0000, 0.0000,\n",
              "            0.0000, 0.0000, 0.0000, 0.0000],\n",
              "           [0.0000, 0.0000, 0.0000, 0.0000, 0.0000, 0.0000, 0.0000, 0.0000,\n",
              "            0.6667, 0.8667, 0.8039, 0.8157, 0.8706, 0.8510, 0.8431, 0.8118,\n",
              "            0.9412, 0.4980, 0.2118, 0.3608, 0.1647, 0.0000, 0.0000, 0.0000,\n",
              "            0.0000, 0.0000, 0.0000, 0.0000],\n",
              "           [0.0000, 0.0000, 0.0000, 0.0000, 0.0000, 0.0000, 0.0000, 0.0000,\n",
              "            0.6275, 0.8824, 0.7333, 0.8392, 0.8980, 0.9020, 0.8314, 0.7725,\n",
              "            0.8980, 0.4745, 0.2118, 0.3569, 0.1137, 0.0000, 0.0000, 0.0000,\n",
              "            0.0000, 0.0000, 0.0000, 0.0000],\n",
              "           [0.0000, 0.0000, 0.0000, 0.0000, 0.0000, 0.0000, 0.0000, 0.0000,\n",
              "            0.5255, 0.9098, 0.7412, 0.8941, 0.6196, 0.8549, 0.8510, 0.7843,\n",
              "            0.9020, 0.4196, 0.2235, 0.3686, 0.0510, 0.0000, 0.0000, 0.0000,\n",
              "            0.0000, 0.0000, 0.0000, 0.0000],\n",
              "           [0.0000, 0.0000, 0.0000, 0.0000, 0.0000, 0.0000, 0.0000, 0.0000,\n",
              "            0.4275, 0.9373, 0.7647, 0.9137, 0.4863, 0.7647, 0.8941, 0.7725,\n",
              "            0.8941, 0.3804, 0.2314, 0.3608, 0.0118, 0.0000, 0.0000, 0.0000,\n",
              "            0.0000, 0.0000, 0.0000, 0.0000],\n",
              "           [0.0000, 0.0000, 0.0000, 0.0000, 0.0000, 0.0000, 0.0000, 0.0000,\n",
              "            0.2863, 0.9529, 0.7490, 0.9098, 0.4431, 0.7176, 0.9020, 0.7608,\n",
              "            0.8627, 0.3451, 0.2510, 0.3490, 0.0000, 0.0000, 0.0000, 0.0000,\n",
              "            0.0000, 0.0000, 0.0000, 0.0000],\n",
              "           [0.0000, 0.0000, 0.0000, 0.0000, 0.0000, 0.0000, 0.0000, 0.0000,\n",
              "            0.1490, 0.9647, 0.7882, 0.9255, 0.3804, 0.6275, 0.9255, 0.7725,\n",
              "            0.8078, 0.3216, 0.2784, 0.3294, 0.0000, 0.0000, 0.0000, 0.0000,\n",
              "            0.0000, 0.0000, 0.0000, 0.0000],\n",
              "           [0.0000, 0.0000, 0.0000, 0.0000, 0.0000, 0.0000, 0.0000, 0.0000,\n",
              "            0.0118, 0.9490, 0.7804, 0.9176, 0.3529, 0.5804, 0.9294, 0.7804,\n",
              "            0.7725, 0.3020, 0.2863, 0.3255, 0.0000, 0.0000, 0.0000, 0.0000,\n",
              "            0.0000, 0.0000, 0.0000, 0.0000],\n",
              "           [0.0000, 0.0000, 0.0000, 0.0000, 0.0000, 0.0000, 0.0000, 0.0000,\n",
              "            0.0000, 0.8824, 0.7922, 0.9098, 0.3176, 0.5569, 0.9020, 0.8471,\n",
              "            0.6196, 0.2510, 0.3020, 0.3255, 0.0000, 0.0000, 0.0000, 0.0000,\n",
              "            0.0000, 0.0000, 0.0000, 0.0000],\n",
              "           [0.0000, 0.0000, 0.0000, 0.0000, 0.0000, 0.0000, 0.0000, 0.0000,\n",
              "            0.0000, 0.8196, 0.8118, 0.9529, 0.2392, 0.5333, 0.9137, 0.8667,\n",
              "            0.4902, 0.2392, 0.3294, 0.3137, 0.0000, 0.0000, 0.0000, 0.0000,\n",
              "            0.0000, 0.0000, 0.0000, 0.0000],\n",
              "           [0.0000, 0.0000, 0.0000, 0.0000, 0.0000, 0.0000, 0.0000, 0.0000,\n",
              "            0.0000, 0.7608, 0.8196, 0.9373, 0.1333, 0.5333, 0.9294, 0.8275,\n",
              "            0.4588, 0.2196, 0.3451, 0.2980, 0.0000, 0.0000, 0.0000, 0.0000,\n",
              "            0.0000, 0.0000, 0.0000, 0.0000],\n",
              "           [0.0000, 0.0000, 0.0000, 0.0000, 0.0000, 0.0000, 0.0000, 0.0000,\n",
              "            0.0000, 0.7451, 0.8078, 0.9294, 0.0706, 0.4784, 0.9373, 0.8275,\n",
              "            0.4784, 0.2078, 0.3608, 0.2824, 0.0000, 0.0000, 0.0000, 0.0000,\n",
              "            0.0000, 0.0000, 0.0000, 0.0000],\n",
              "           [0.0000, 0.0000, 0.0000, 0.0000, 0.0000, 0.0000, 0.0000, 0.0000,\n",
              "            0.0000, 0.7804, 0.8078, 0.9216, 0.0118, 0.4235, 0.9255, 0.8196,\n",
              "            0.4980, 0.1608, 0.3922, 0.2471, 0.0000, 0.0000, 0.0000, 0.0000,\n",
              "            0.0000, 0.0000, 0.0000, 0.0000],\n",
              "           [0.0000, 0.0000, 0.0000, 0.0000, 0.0000, 0.0000, 0.0000, 0.0000,\n",
              "            0.0000, 0.7373, 0.8157, 0.9255, 0.0000, 0.3451, 0.8431, 0.8431,\n",
              "            0.4784, 0.1373, 0.4314, 0.2157, 0.0000, 0.0000, 0.0000, 0.0000,\n",
              "            0.0000, 0.0000, 0.0000, 0.0000],\n",
              "           [0.0000, 0.0000, 0.0000, 0.0000, 0.0000, 0.0000, 0.0000, 0.0000,\n",
              "            0.0000, 0.6588, 0.8235, 0.9294, 0.0000, 0.2745, 0.8353, 0.8471,\n",
              "            0.4235, 0.1216, 0.4431, 0.1843, 0.0000, 0.0000, 0.0000, 0.0000,\n",
              "            0.0000, 0.0000, 0.0000, 0.0000],\n",
              "           [0.0000, 0.0000, 0.0000, 0.0000, 0.0000, 0.0000, 0.0000, 0.0000,\n",
              "            0.0000, 0.5020, 0.8627, 0.9412, 0.0000, 0.2353, 0.8353, 0.8471,\n",
              "            0.3216, 0.1098, 0.4471, 0.1569, 0.0000, 0.0000, 0.0000, 0.0000,\n",
              "            0.0000, 0.0000, 0.0000, 0.0000],\n",
              "           [0.0000, 0.0000, 0.0000, 0.0000, 0.0000, 0.0000, 0.0000, 0.0000,\n",
              "            0.0000, 0.2667, 0.8627, 0.7765, 0.0000, 0.2118, 0.8353, 0.8549,\n",
              "            0.1647, 0.1255, 0.5647, 0.2000, 0.0000, 0.0000, 0.0000, 0.0000,\n",
              "            0.0000, 0.0000, 0.0000, 0.0000],\n",
              "           [0.0000, 0.0000, 0.0000, 0.0000, 0.0000, 0.0000, 0.0000, 0.0000,\n",
              "            0.0000, 0.1098, 0.8549, 0.7725, 0.0000, 0.0000, 0.8039, 0.8549,\n",
              "            0.0941, 0.0000, 0.1804, 0.0314, 0.0000, 0.0000, 0.0000, 0.0000,\n",
              "            0.0000, 0.0000, 0.0000, 0.0000],\n",
              "           [0.0000, 0.0000, 0.0000, 0.0000, 0.0000, 0.0000, 0.0000, 0.0000,\n",
              "            0.0000, 0.0000, 0.8118, 0.7647, 0.0000, 0.0000, 0.7686, 0.8510,\n",
              "            0.0706, 0.0000, 0.0000, 0.0000, 0.0000, 0.0000, 0.0000, 0.0000,\n",
              "            0.0000, 0.0000, 0.0000, 0.0000],\n",
              "           [0.0000, 0.0000, 0.0000, 0.0000, 0.0000, 0.0000, 0.0000, 0.0000,\n",
              "            0.0000, 0.0000, 0.7922, 0.8196, 0.0000, 0.0000, 0.7569, 0.9020,\n",
              "            0.0353, 0.0000, 0.0157, 0.0000, 0.0000, 0.0000, 0.0000, 0.0000,\n",
              "            0.0000, 0.0000, 0.0000, 0.0000],\n",
              "           [0.0000, 0.0000, 0.0000, 0.0000, 0.0000, 0.0000, 0.0000, 0.0000,\n",
              "            0.0000, 0.0000, 0.5020, 0.6314, 0.0000, 0.0000, 0.4118, 0.5686,\n",
              "            0.0000, 0.0000, 0.0039, 0.0000, 0.0000, 0.0000, 0.0000, 0.0000,\n",
              "            0.0000, 0.0000, 0.0000, 0.0000]]]),\n",
              "  tensor([[[0.0000, 0.0000, 0.0000, 0.0000, 0.0000, 0.0000, 0.0000, 0.0000,\n",
              "            0.0000, 0.0000, 0.0000, 0.0000, 0.0000, 0.0000, 0.0000, 0.0000,\n",
              "            0.0000, 0.0000, 0.0000, 0.0000, 0.0000, 0.0000, 0.0000, 0.0000,\n",
              "            0.0000, 0.0000, 0.0000, 0.0000],\n",
              "           [0.0000, 0.0000, 0.0000, 0.0000, 0.0000, 0.0000, 0.0000, 0.0000,\n",
              "            0.0000, 0.0000, 0.0000, 0.0000, 0.0000, 0.0000, 0.0000, 0.0000,\n",
              "            0.0000, 0.0000, 0.0000, 0.0000, 0.0000, 0.0000, 0.0000, 0.0000,\n",
              "            0.0000, 0.0000, 0.0000, 0.0000],\n",
              "           [0.0000, 0.0000, 0.0000, 0.0000, 0.0000, 0.0000, 0.0000, 0.0000,\n",
              "            0.0000, 0.0000, 0.0000, 0.0000, 0.0000, 0.0000, 0.0000, 0.0000,\n",
              "            0.0000, 0.0000, 0.0000, 0.0000, 0.0000, 0.0000, 0.0000, 0.0000,\n",
              "            0.0000, 0.0000, 0.0000, 0.0000],\n",
              "           [0.0000, 0.0000, 0.0000, 0.0000, 0.0000, 0.0000, 0.0000, 0.0000,\n",
              "            0.0000, 0.0000, 0.0000, 0.0000, 0.0000, 0.0000, 0.0000, 0.0000,\n",
              "            0.0000, 0.0000, 0.0000, 0.0000, 0.0000, 0.0000, 0.0000, 0.0000,\n",
              "            0.0000, 0.0000, 0.0000, 0.0000],\n",
              "           [0.0000, 0.0000, 0.0000, 0.0000, 0.0000, 0.0000, 0.0000, 0.0000,\n",
              "            0.0000, 0.0000, 0.0000, 0.0000, 0.0000, 0.0000, 0.0000, 0.0000,\n",
              "            0.0000, 0.0000, 0.0000, 0.0000, 0.0000, 0.0000, 0.0000, 0.0000,\n",
              "            0.0000, 0.0000, 0.0000, 0.0000],\n",
              "           [0.0000, 0.0000, 0.0000, 0.0000, 0.0000, 0.0000, 0.0000, 0.0000,\n",
              "            0.0000, 0.0000, 0.0000, 0.0000, 0.0000, 0.0000, 0.0000, 0.0000,\n",
              "            0.0000, 0.0000, 0.0000, 0.0000, 0.0000, 0.0000, 0.0000, 0.0000,\n",
              "            0.0000, 0.0000, 0.0000, 0.0000],\n",
              "           [0.0000, 0.0000, 0.0000, 0.0000, 0.0000, 0.0000, 0.0000, 0.0000,\n",
              "            0.0000, 0.0000, 0.0000, 0.0000, 0.0000, 0.0000, 0.0000, 0.0000,\n",
              "            0.0000, 0.0000, 0.0000, 0.0275, 0.0000, 0.0000, 0.0039, 0.0039,\n",
              "            0.0039, 0.0039, 0.0157, 0.0000],\n",
              "           [0.0000, 0.0000, 0.0000, 0.0000, 0.0000, 0.0000, 0.0000, 0.0000,\n",
              "            0.0000, 0.0000, 0.0000, 0.0000, 0.0000, 0.0000, 0.0000, 0.0000,\n",
              "            0.0078, 0.0000, 0.0000, 0.7294, 0.3451, 0.0000, 0.0000, 0.0000,\n",
              "            0.0000, 0.0000, 0.0000, 0.0000],\n",
              "           [0.0000, 0.0000, 0.0000, 0.0000, 0.0000, 0.0000, 0.0000, 0.0000,\n",
              "            0.0000, 0.0000, 0.0000, 0.0000, 0.0000, 0.0000, 0.0039, 0.0039,\n",
              "            0.0000, 0.0000, 0.6941, 0.9098, 0.7843, 0.1333, 0.0745, 0.1176,\n",
              "            0.2863, 0.6000, 0.5922, 0.0000],\n",
              "           [0.0000, 0.0000, 0.0000, 0.0000, 0.0000, 0.0000, 0.0000, 0.0000,\n",
              "            0.0000, 0.0000, 0.0000, 0.0000, 0.0000, 0.0000, 0.0000, 0.0000,\n",
              "            0.0000, 1.0000, 0.5843, 0.5961, 0.8627, 0.9059, 0.8863, 0.8549,\n",
              "            0.8392, 0.8667, 0.5529, 0.0000],\n",
              "           [0.0000, 0.0000, 0.0000, 0.0000, 0.0000, 0.0000, 0.0000, 0.0000,\n",
              "            0.0000, 0.0000, 0.0000, 0.0000, 0.0000, 0.0000, 0.0000, 0.1451,\n",
              "            0.9216, 0.6549, 0.5294, 0.6902, 0.8745, 0.8275, 0.8157, 0.7882,\n",
              "            0.7608, 0.7490, 0.6118, 0.0000],\n",
              "           [0.0000, 0.0000, 0.0000, 0.0000, 0.0000, 0.0000, 0.0000, 0.0000,\n",
              "            0.0000, 0.0000, 0.0039, 0.0000, 0.0000, 0.0118, 0.8196, 0.8392,\n",
              "            0.8431, 0.3882, 0.6824, 0.9765, 0.8588, 0.8275, 0.8275, 0.8000,\n",
              "            0.7961, 0.7765, 0.6784, 0.0000],\n",
              "           [0.0000, 0.0000, 0.0000, 0.0000, 0.0000, 0.0000, 0.0000, 0.0078,\n",
              "            0.0039, 0.0000, 0.0000, 0.0000, 0.3020, 0.9569, 0.8118, 0.7843,\n",
              "            0.4627, 0.8431, 0.9098, 0.8627, 0.8549, 0.8078, 0.7765, 0.7961,\n",
              "            0.7882, 0.7294, 0.7647, 0.0000],\n",
              "           [0.0000, 0.0039, 0.0157, 0.0196, 0.0118, 0.0078, 0.0196, 0.0000,\n",
              "            0.0000, 0.0000, 0.0941, 0.6902, 0.8196, 0.7569, 0.6353, 0.4353,\n",
              "            0.6000, 0.8000, 0.8392, 0.8275, 0.8118, 0.8510, 0.8667, 0.7490,\n",
              "            0.7647, 0.7412, 0.9804, 0.2745],\n",
              "           [0.0000, 0.0000, 0.0000, 0.0000, 0.0000, 0.0000, 0.0000, 0.0000,\n",
              "            0.2745, 0.6510, 1.0000, 0.7765, 0.7176, 0.5137, 0.6039, 0.8000,\n",
              "            0.9373, 0.8706, 0.8000, 0.8275, 0.8549, 0.6784, 0.5137, 0.8392,\n",
              "            0.8706, 0.9333, 1.0000, 0.6196],\n",
              "           [0.0000, 0.0000, 0.0431, 0.0745, 0.0157, 0.0000, 0.0471, 0.6431,\n",
              "            1.0000, 0.7451, 0.5373, 0.5216, 0.5059, 0.6431, 0.9098, 0.8549,\n",
              "            0.8392, 0.8157, 0.8431, 0.8471, 0.8588, 0.7529, 0.7333, 0.9922,\n",
              "            0.9725, 0.9333, 0.9686, 0.8314],\n",
              "           [0.0000, 0.6314, 0.7255, 0.6824, 0.6941, 0.8157, 0.8784, 0.6549,\n",
              "            0.4471, 0.4706, 0.6118, 0.6941, 0.8235, 0.8784, 0.8353, 0.8275,\n",
              "            0.8392, 0.8431, 0.8353, 0.8314, 0.8118, 0.9490, 1.0000, 0.9373,\n",
              "            0.9216, 0.9176, 0.9725, 0.8157],\n",
              "           [0.3176, 0.7373, 0.6745, 0.7137, 0.7098, 0.7176, 0.6157, 0.5922,\n",
              "            0.6000, 0.6824, 0.7686, 0.8157, 0.8471, 0.8314, 0.8314, 0.8314,\n",
              "            0.8314, 0.8314, 0.8314, 0.8196, 0.8039, 0.9059, 0.9529, 0.9451,\n",
              "            0.9569, 0.9412, 0.9961, 0.7686],\n",
              "           [0.2510, 0.8000, 0.6941, 0.6784, 0.6941, 0.7020, 0.7294, 0.7686,\n",
              "            0.7490, 0.8196, 0.8863, 0.8549, 0.8784, 0.8706, 0.8863, 0.8784,\n",
              "            0.8745, 0.8667, 0.8667, 0.8627, 0.8392, 0.8863, 0.9412, 0.9569,\n",
              "            0.9569, 0.9333, 0.9333, 0.6157],\n",
              "           [0.0000, 0.5961, 0.7569, 0.8118, 0.7686, 0.7294, 0.7059, 0.6588,\n",
              "            0.6667, 0.7294, 0.7216, 0.7373, 0.7608, 0.7333, 0.7176, 0.7137,\n",
              "            0.7137, 0.7059, 0.7137, 0.7294, 0.7137, 0.6980, 0.6863, 0.6745,\n",
              "            0.6667, 0.6471, 0.6667, 0.6196],\n",
              "           [0.0000, 0.0000, 0.0000, 0.3412, 0.7294, 0.9020, 0.9373, 0.8941,\n",
              "            0.8353, 0.8471, 0.7922, 0.8118, 0.7529, 0.7647, 0.7961, 0.8078,\n",
              "            0.8235, 0.8353, 0.8588, 0.8627, 0.8627, 0.8627, 0.8863, 0.8980,\n",
              "            0.8863, 0.8824, 0.9098, 0.6039],\n",
              "           [0.0000, 0.0000, 0.0000, 0.0000, 0.0000, 0.0000, 0.2196, 0.3843,\n",
              "            0.4980, 0.5529, 0.5882, 0.6275, 0.6510, 0.6235, 0.5804, 0.5490,\n",
              "            0.5059, 0.4745, 0.4196, 0.4235, 0.4118, 0.4196, 0.3765, 0.3490,\n",
              "            0.3451, 0.2863, 0.2392, 0.0000],\n",
              "           [0.0000, 0.0000, 0.0000, 0.0000, 0.0000, 0.0000, 0.0000, 0.0000,\n",
              "            0.0000, 0.0000, 0.0000, 0.0000, 0.0000, 0.0000, 0.0000, 0.0000,\n",
              "            0.0000, 0.0000, 0.0000, 0.0000, 0.0000, 0.0000, 0.0000, 0.0000,\n",
              "            0.0000, 0.0000, 0.0000, 0.0000],\n",
              "           [0.0000, 0.0000, 0.0000, 0.0000, 0.0000, 0.0000, 0.0000, 0.0000,\n",
              "            0.0000, 0.0000, 0.0000, 0.0000, 0.0000, 0.0000, 0.0000, 0.0000,\n",
              "            0.0000, 0.0000, 0.0000, 0.0000, 0.0000, 0.0000, 0.0000, 0.0000,\n",
              "            0.0000, 0.0000, 0.0000, 0.0000],\n",
              "           [0.0000, 0.0000, 0.0000, 0.0000, 0.0000, 0.0000, 0.0000, 0.0000,\n",
              "            0.0000, 0.0000, 0.0000, 0.0000, 0.0000, 0.0000, 0.0000, 0.0000,\n",
              "            0.0000, 0.0000, 0.0000, 0.0000, 0.0000, 0.0000, 0.0000, 0.0000,\n",
              "            0.0000, 0.0000, 0.0000, 0.0000],\n",
              "           [0.0000, 0.0000, 0.0000, 0.0000, 0.0000, 0.0000, 0.0000, 0.0000,\n",
              "            0.0000, 0.0000, 0.0000, 0.0000, 0.0000, 0.0000, 0.0000, 0.0000,\n",
              "            0.0000, 0.0000, 0.0000, 0.0000, 0.0000, 0.0000, 0.0000, 0.0000,\n",
              "            0.0000, 0.0000, 0.0000, 0.0000],\n",
              "           [0.0000, 0.0000, 0.0000, 0.0000, 0.0000, 0.0000, 0.0000, 0.0000,\n",
              "            0.0000, 0.0000, 0.0000, 0.0000, 0.0000, 0.0000, 0.0000, 0.0000,\n",
              "            0.0000, 0.0000, 0.0000, 0.0000, 0.0000, 0.0000, 0.0000, 0.0000,\n",
              "            0.0000, 0.0000, 0.0000, 0.0000],\n",
              "           [0.0000, 0.0000, 0.0000, 0.0000, 0.0000, 0.0000, 0.0000, 0.0000,\n",
              "            0.0000, 0.0000, 0.0000, 0.0000, 0.0000, 0.0000, 0.0000, 0.0000,\n",
              "            0.0000, 0.0000, 0.0000, 0.0000, 0.0000, 0.0000, 0.0000, 0.0000,\n",
              "            0.0000, 0.0000, 0.0000, 0.0000]]]),\n",
              "  tensor([[[0.0000, 0.0000, 0.0000, 0.0000, 0.0000, 0.0000, 0.0000, 0.0000,\n",
              "            0.0118, 0.0000, 0.0000, 0.5922, 0.7608, 0.7216, 0.6824, 0.6275,\n",
              "            0.5647, 0.2941, 0.0000, 0.0000, 0.0039, 0.0000, 0.0000, 0.0000,\n",
              "            0.0000, 0.0000, 0.0000, 0.0000],\n",
              "           [0.0000, 0.0000, 0.0000, 0.0000, 0.0000, 0.0000, 0.0000, 0.0000,\n",
              "            0.0000, 0.0000, 0.5882, 0.9922, 0.9529, 0.9451, 0.9765, 0.9373,\n",
              "            0.9843, 0.9961, 0.4039, 0.0000, 0.0039, 0.0000, 0.0000, 0.0000,\n",
              "            0.0000, 0.0000, 0.0000, 0.0000],\n",
              "           [0.0000, 0.0000, 0.0000, 0.0000, 0.0000, 0.0000, 0.0000, 0.0000,\n",
              "            0.0000, 0.0000, 0.7216, 0.9412, 0.8039, 0.9216, 0.9333, 0.9137,\n",
              "            0.8235, 0.9059, 0.7608, 0.0000, 0.0000, 0.0039, 0.0000, 0.0039,\n",
              "            0.0000, 0.0000, 0.0000, 0.0000],\n",
              "           [0.0000, 0.0000, 0.0000, 0.0000, 0.0000, 0.0000, 0.0000, 0.0118,\n",
              "            0.0000, 0.1765, 0.9333, 0.9098, 0.8235, 0.9059, 0.8392, 0.9137,\n",
              "            0.8275, 0.9216, 0.9412, 0.1451, 0.0000, 0.0157, 0.0000, 0.0039,\n",
              "            0.0000, 0.0000, 0.0000, 0.0000],\n",
              "           [0.0000, 0.0000, 0.0000, 0.0000, 0.0000, 0.0000, 0.0000, 0.0000,\n",
              "            0.0000, 0.7804, 0.9647, 0.9373, 0.9922, 0.9059, 0.7569, 0.9490,\n",
              "            0.9686, 0.9098, 0.9490, 0.6078, 0.0000, 0.0000, 0.0000, 0.0000,\n",
              "            0.0000, 0.0000, 0.0000, 0.0000],\n",
              "           [0.0000, 0.0000, 0.0000, 0.0000, 0.0000, 0.0078, 0.0000, 0.0078,\n",
              "            0.8353, 0.9216, 0.8980, 0.9412, 0.9373, 0.9059, 0.7412, 0.9373,\n",
              "            0.9569, 0.8588, 0.8196, 0.8275, 0.8549, 0.3569, 0.0000, 0.0000,\n",
              "            0.0000, 0.0000, 0.0000, 0.0000],\n",
              "           [0.0000, 0.0000, 0.0000, 0.0000, 0.0000, 0.0000, 0.0000, 0.6980,\n",
              "            1.0000, 0.9373, 0.9373, 0.9451, 0.9059, 0.9098, 0.7804, 0.9294,\n",
              "            0.9216, 0.9098, 0.8627, 0.8588, 0.9059, 0.8863, 0.1373, 0.0000,\n",
              "            0.0000, 0.0000, 0.0000, 0.0000],\n",
              "           [0.0000, 0.0000, 0.0000, 0.0000, 0.0000, 0.0000, 0.0039, 0.8941,\n",
              "            0.9294, 0.9412, 0.9529, 0.9529, 0.9569, 0.9412, 0.7569, 0.9255,\n",
              "            0.9804, 0.9529, 0.9647, 0.8784, 0.8353, 0.8510, 0.4941, 0.0000,\n",
              "            0.0000, 0.0000, 0.0000, 0.0000],\n",
              "           [0.0000, 0.0000, 0.0000, 0.0000, 0.0000, 0.0000, 0.1569, 0.9529,\n",
              "            0.9176, 0.9294, 0.9569, 0.9608, 0.9686, 0.9373, 0.8549, 0.9490,\n",
              "            0.9451, 0.9451, 0.9569, 0.9373, 0.8510, 0.9098, 0.6941, 0.0000,\n",
              "            0.0000, 0.0000, 0.0000, 0.0000],\n",
              "           [0.0000, 0.0000, 0.0000, 0.0000, 0.0000, 0.0000, 0.2667, 0.9725,\n",
              "            0.9020, 0.9020, 0.9843, 0.9098, 0.8784, 0.8667, 0.8196, 0.9137,\n",
              "            0.9490, 0.9137, 0.9137, 0.8667, 0.9020, 0.9255, 0.8196, 0.0000,\n",
              "            0.0000, 0.0000, 0.0000, 0.0000],\n",
              "           [0.0000, 0.0000, 0.0000, 0.0000, 0.0000, 0.0000, 0.5373, 0.9765,\n",
              "            0.9098, 0.8745, 0.9412, 0.9216, 0.9216, 0.8510, 0.6118, 0.8157,\n",
              "            0.9882, 0.9333, 0.9451, 0.9059, 0.9216, 0.8902, 0.9255, 0.0000,\n",
              "            0.0000, 0.0000, 0.0000, 0.0000],\n",
              "           [0.0000, 0.0000, 0.0000, 0.0000, 0.0000, 0.0000, 0.6588, 0.9765,\n",
              "            0.8941, 0.8431, 0.8549, 0.9529, 0.9216, 0.9961, 0.7765, 0.9216,\n",
              "            0.9490, 0.9137, 0.9216, 0.9451, 0.9059, 0.9020, 0.8471, 0.0000,\n",
              "            0.0000, 0.0000, 0.0000, 0.0000],\n",
              "           [0.0000, 0.0000, 0.0000, 0.0000, 0.0000, 0.0000, 0.7569, 0.9804,\n",
              "            0.8980, 0.8824, 0.8627, 0.9294, 0.8980, 0.9569, 0.7765, 0.8784,\n",
              "            0.9137, 0.8863, 0.8824, 0.9373, 0.9255, 0.9255, 0.8824, 0.0392,\n",
              "            0.0000, 0.0000, 0.0000, 0.0000],\n",
              "           [0.0000, 0.0000, 0.0000, 0.0000, 0.0000, 0.0000, 0.7020, 0.9647,\n",
              "            0.8549, 0.8431, 0.9137, 0.8784, 0.8824, 0.9412, 0.7922, 0.8588,\n",
              "            0.9333, 0.8980, 0.8941, 0.9216, 0.7961, 0.9333, 0.9098, 0.1569,\n",
              "            0.0000, 0.0000, 0.0000, 0.0000],\n",
              "           [0.0000, 0.0000, 0.0000, 0.0000, 0.0000, 0.0000, 0.7490, 0.9843,\n",
              "            0.6588, 0.5765, 0.9961, 0.8863, 0.9137, 0.9333, 0.8118, 0.8627,\n",
              "            0.9569, 0.9137, 0.9529, 0.8471, 0.3765, 0.9373, 0.9294, 0.2471,\n",
              "            0.0000, 0.0000, 0.0000, 0.0000],\n",
              "           [0.0000, 0.0000, 0.0000, 0.0000, 0.0000, 0.0000, 0.7922, 0.9725,\n",
              "            0.5961, 0.3922, 1.0000, 0.8863, 0.9176, 0.9529, 0.8000, 0.8549,\n",
              "            0.9608, 0.9059, 0.9529, 0.8431, 0.1490, 0.9490, 0.9373, 0.3098,\n",
              "            0.0000, 0.0000, 0.0000, 0.0000],\n",
              "           [0.0000, 0.0000, 0.0000, 0.0000, 0.0000, 0.0000, 0.8196, 0.9569,\n",
              "            0.5020, 0.2980, 1.0000, 0.8627, 0.8941, 0.9412, 0.8157, 0.8588,\n",
              "            0.9294, 0.9059, 0.8745, 0.7922, 0.0471, 1.0000, 0.9412, 0.3647,\n",
              "            0.0000, 0.0000, 0.0000, 0.0000],\n",
              "           [0.0000, 0.0000, 0.0000, 0.0000, 0.0000, 0.0000, 0.8431, 0.9569,\n",
              "            0.4471, 0.2196, 1.0000, 0.8784, 0.8863, 0.9059, 0.8196, 0.8627,\n",
              "            0.9137, 0.9098, 0.9294, 0.8745, 0.0431, 1.0000, 0.9373, 0.3922,\n",
              "            0.0000, 0.0000, 0.0000, 0.0000],\n",
              "           [0.0000, 0.0000, 0.0000, 0.0000, 0.0000, 0.0000, 0.8745, 0.9412,\n",
              "            0.3490, 0.2157, 0.9804, 0.8706, 0.8627, 0.8549, 0.7922, 0.8275,\n",
              "            0.9176, 0.9373, 0.8941, 0.8392, 0.1333, 0.9294, 0.9412, 0.4353,\n",
              "            0.0000, 0.0000, 0.0000, 0.0000],\n",
              "           [0.0000, 0.0000, 0.0000, 0.0000, 0.0000, 0.0000, 0.8941, 0.9333,\n",
              "            0.3412, 0.3882, 0.8784, 0.9059, 0.9020, 0.8863, 0.8275, 0.8314,\n",
              "            0.8784, 0.9098, 0.8784, 0.8353, 0.3137, 0.8275, 0.9529, 0.4941,\n",
              "            0.0000, 0.0000, 0.0000, 0.0000],\n",
              "           [0.0000, 0.0000, 0.0000, 0.0000, 0.0000, 0.0000, 0.9020, 0.9059,\n",
              "            0.3020, 0.6314, 0.8392, 0.9176, 0.9098, 0.9059, 0.8314, 0.8392,\n",
              "            0.8667, 0.8980, 0.8471, 0.8824, 0.3804, 0.7961, 0.9451, 0.5294,\n",
              "            0.0000, 0.0000, 0.0000, 0.0000],\n",
              "           [0.0000, 0.0000, 0.0000, 0.0000, 0.0000, 0.0392, 0.9216, 0.8863,\n",
              "            0.3647, 0.7922, 0.8745, 0.9098, 0.8588, 0.8980, 0.8078, 0.8588,\n",
              "            0.8745, 0.8314, 0.8667, 0.9294, 0.4353, 0.7843, 0.9333, 0.5686,\n",
              "            0.0000, 0.0000, 0.0000, 0.0000],\n",
              "           [0.0000, 0.0000, 0.0000, 0.0000, 0.0000, 0.0902, 0.9294, 0.8667,\n",
              "            0.5529, 0.8706, 0.8667, 0.8706, 0.8706, 0.8941, 0.8235, 0.8667,\n",
              "            0.8941, 0.8627, 0.8588, 0.8863, 0.5725, 0.7765, 0.9294, 0.5804,\n",
              "            0.0000, 0.0000, 0.0000, 0.0000],\n",
              "           [0.0000, 0.0000, 0.0000, 0.0000, 0.0000, 0.0941, 0.9216, 0.8627,\n",
              "            0.4588, 0.8588, 0.8471, 0.8392, 0.8275, 0.8353, 0.8353, 0.8510,\n",
              "            0.8471, 0.8275, 0.8118, 0.8784, 0.5333, 0.7529, 0.9255, 0.6353,\n",
              "            0.0000, 0.0000, 0.0000, 0.0000],\n",
              "           [0.0000, 0.0000, 0.0000, 0.0000, 0.0000, 0.1490, 0.9294, 0.8510,\n",
              "            0.5098, 0.7647, 0.8275, 0.8510, 0.8549, 0.8549, 0.8471, 0.8588,\n",
              "            0.8588, 0.8549, 0.8353, 0.8745, 0.5608, 0.6196, 0.9373, 0.7569,\n",
              "            0.0000, 0.0000, 0.0000, 0.0000],\n",
              "           [0.0000, 0.0000, 0.0000, 0.0000, 0.0000, 0.0235, 0.8745, 0.7686,\n",
              "            0.3137, 0.9961, 0.9020, 0.9216, 0.9216, 0.9294, 0.8941, 0.9098,\n",
              "            0.9176, 0.9137, 0.8902, 0.9333, 0.6745, 0.2824, 0.9373, 0.6784,\n",
              "            0.0000, 0.0000, 0.0000, 0.0000],\n",
              "           [0.0000, 0.0000, 0.0000, 0.0000, 0.0000, 0.0196, 0.8902, 0.8471,\n",
              "            0.0431, 0.1922, 0.2784, 0.2863, 0.2863, 0.3020, 0.2353, 0.2431,\n",
              "            0.2667, 0.2667, 0.2314, 0.1961, 0.0000, 0.5098, 0.9961, 0.7098,\n",
              "            0.0000, 0.0000, 0.0000, 0.0000],\n",
              "           [0.0000, 0.0000, 0.0000, 0.0000, 0.0000, 0.0000, 0.5529, 0.5333,\n",
              "            0.0000, 0.0000, 0.0000, 0.0000, 0.0000, 0.0000, 0.0000, 0.0000,\n",
              "            0.0000, 0.0000, 0.0000, 0.0000, 0.0000, 0.2745, 0.6745, 0.3255,\n",
              "            0.0000, 0.0000, 0.0000, 0.0000]]]),\n",
              "  tensor([[[0.0000, 0.0000, 0.0000, 0.0000, 0.0000, 0.0000, 0.0000, 0.0000,\n",
              "            0.0000, 0.0078, 0.0000, 0.0000, 0.0000, 0.3765, 0.3569, 0.3255,\n",
              "            0.4510, 0.0000, 0.0000, 0.0078, 0.0078, 0.0000, 0.0000, 0.0000,\n",
              "            0.0000, 0.0000, 0.0000, 0.0000],\n",
              "           [0.0000, 0.0000, 0.0000, 0.0000, 0.0000, 0.0000, 0.0000, 0.0000,\n",
              "            0.0000, 0.0000, 0.0000, 0.0000, 0.4392, 0.6863, 0.5843, 0.7765,\n",
              "            0.7961, 0.3490, 0.0000, 0.0000, 0.0000, 0.0000, 0.0000, 0.0000,\n",
              "            0.0000, 0.0000, 0.0000, 0.0000],\n",
              "           [0.0000, 0.0000, 0.0000, 0.0000, 0.0000, 0.0000, 0.0000, 0.0000,\n",
              "            0.0000, 0.4039, 0.7294, 1.0000, 0.6314, 0.5020, 0.8784, 0.7765,\n",
              "            0.4078, 0.6863, 0.9412, 0.5176, 0.0824, 0.0000, 0.0000, 0.0000,\n",
              "            0.0000, 0.0000, 0.0000, 0.0000],\n",
              "           [0.0000, 0.0000, 0.0000, 0.0000, 0.0000, 0.0000, 0.0000, 0.0000,\n",
              "            0.6078, 0.9412, 0.8824, 0.8667, 0.8510, 0.9059, 0.9137, 0.8745,\n",
              "            0.9176, 0.8588, 0.8863, 0.9137, 0.8863, 0.2431, 0.0000, 0.0000,\n",
              "            0.0000, 0.0000, 0.0000, 0.0000],\n",
              "           [0.0000, 0.0000, 0.0000, 0.0000, 0.0000, 0.0000, 0.0000, 0.0353,\n",
              "            0.8745, 0.8431, 0.8353, 0.8471, 0.8588, 0.8706, 0.7882, 0.7569,\n",
              "            0.8863, 0.8549, 0.8431, 0.8196, 0.8667, 0.8706, 0.0000, 0.0000,\n",
              "            0.0000, 0.0000, 0.0000, 0.0000],\n",
              "           [0.0000, 0.0000, 0.0000, 0.0000, 0.0000, 0.0000, 0.0000, 0.5373,\n",
              "            0.9137, 0.8706, 0.8471, 0.8471, 0.8471, 0.8627, 0.8353, 0.8392,\n",
              "            0.8706, 0.8039, 0.8549, 0.8353, 0.8196, 0.8431, 0.0706, 0.0000,\n",
              "            0.0000, 0.0000, 0.0000, 0.0000],\n",
              "           [0.0000, 0.0000, 0.0000, 0.0000, 0.0000, 0.0000, 0.0000, 0.7725,\n",
              "            0.9098, 0.9294, 0.8824, 0.8431, 0.8549, 0.8471, 0.8471, 0.8353,\n",
              "            0.8902, 0.6314, 0.7882, 0.8353, 0.8902, 0.9490, 0.6157, 0.0000,\n",
              "            0.0000, 0.0000, 0.0000, 0.0000],\n",
              "           [0.0000, 0.0000, 0.0000, 0.0000, 0.0000, 0.0000, 0.0000, 0.3569,\n",
              "            0.6157, 0.9059, 0.9020, 0.8392, 0.8471, 0.8431, 0.8392, 0.8392,\n",
              "            0.8431, 0.8784, 0.8549, 0.8824, 0.7216, 0.4118, 0.1765, 0.0000,\n",
              "            0.0000, 0.0000, 0.0000, 0.0000],\n",
              "           [0.0000, 0.0000, 0.0000, 0.0000, 0.0000, 0.0000, 0.0000, 0.0000,\n",
              "            0.0000, 0.0000, 0.7529, 0.9216, 0.8196, 0.8353, 0.8353, 0.8235,\n",
              "            0.8314, 0.8118, 0.8510, 0.8863, 0.0000, 0.0000, 0.0000, 0.0000,\n",
              "            0.0000, 0.0000, 0.0000, 0.0000],\n",
              "           [0.0000, 0.0000, 0.0000, 0.0000, 0.0000, 0.0000, 0.0039, 0.0039,\n",
              "            0.0000, 0.0000, 0.6118, 0.9059, 0.8157, 0.8275, 0.8353, 0.8196,\n",
              "            0.8353, 0.8078, 0.8667, 0.8078, 0.0000, 0.0000, 0.0078, 0.0000,\n",
              "            0.0000, 0.0000, 0.0000, 0.0000],\n",
              "           [0.0000, 0.0000, 0.0000, 0.0000, 0.0000, 0.0000, 0.0000, 0.0000,\n",
              "            0.0118, 0.0000, 0.5373, 0.9059, 0.8431, 0.8196, 0.8431, 0.8314,\n",
              "            0.8353, 0.7882, 0.8824, 0.5529, 0.0000, 0.0000, 0.0000, 0.0000,\n",
              "            0.0000, 0.0000, 0.0000, 0.0000],\n",
              "           [0.0000, 0.0000, 0.0000, 0.0000, 0.0000, 0.0000, 0.0000, 0.0000,\n",
              "            0.0078, 0.0000, 0.4471, 0.9294, 0.8431, 0.8275, 0.8510, 0.8353,\n",
              "            0.8353, 0.8078, 0.8902, 0.3333, 0.0000, 0.0118, 0.0000, 0.0000,\n",
              "            0.0000, 0.0000, 0.0000, 0.0000],\n",
              "           [0.0000, 0.0000, 0.0000, 0.0000, 0.0000, 0.0000, 0.0000, 0.0000,\n",
              "            0.0078, 0.0000, 0.3804, 0.9412, 0.8510, 0.8471, 0.8510, 0.8392,\n",
              "            0.8353, 0.8118, 0.8863, 0.3137, 0.0000, 0.0118, 0.0000, 0.0000,\n",
              "            0.0000, 0.0000, 0.0000, 0.0000],\n",
              "           [0.0000, 0.0000, 0.0000, 0.0000, 0.0000, 0.0000, 0.0000, 0.0000,\n",
              "            0.0039, 0.0000, 0.2706, 0.9255, 0.8627, 0.8627, 0.8392, 0.8392,\n",
              "            0.8353, 0.8196, 0.8784, 0.2157, 0.0000, 0.0118, 0.0000, 0.0000,\n",
              "            0.0000, 0.0000, 0.0000, 0.0000],\n",
              "           [0.0000, 0.0000, 0.0000, 0.0000, 0.0000, 0.0000, 0.0000, 0.0000,\n",
              "            0.0000, 0.0000, 0.4706, 0.9059, 0.8510, 0.8510, 0.8392, 0.8431,\n",
              "            0.8392, 0.8157, 0.8824, 0.3804, 0.0000, 0.0000, 0.0000, 0.0000,\n",
              "            0.0000, 0.0000, 0.0000, 0.0000],\n",
              "           [0.0000, 0.0000, 0.0000, 0.0000, 0.0000, 0.0000, 0.0000, 0.0078,\n",
              "            0.0000, 0.0000, 0.9216, 0.8706, 0.8627, 0.8431, 0.8667, 0.8275,\n",
              "            0.8314, 0.8196, 0.8706, 0.7882, 0.0000, 0.0000, 0.0000, 0.0000,\n",
              "            0.0000, 0.0000, 0.0000, 0.0000],\n",
              "           [0.0000, 0.0000, 0.0000, 0.0000, 0.0000, 0.0000, 0.0000, 0.0118,\n",
              "            0.0000, 0.1647, 0.8902, 0.8471, 0.8863, 0.8431, 0.8745, 0.8196,\n",
              "            0.8314, 0.8471, 0.8431, 0.9529, 0.0000, 0.0000, 0.0078, 0.0000,\n",
              "            0.0000, 0.0000, 0.0000, 0.0000],\n",
              "           [0.0000, 0.0000, 0.0000, 0.0000, 0.0000, 0.0000, 0.0000, 0.0118,\n",
              "            0.0000, 0.3765, 0.9020, 0.8471, 0.8863, 0.8431, 0.8745, 0.8275,\n",
              "            0.8314, 0.8745, 0.8353, 0.8745, 0.0980, 0.0000, 0.0118, 0.0000,\n",
              "            0.0000, 0.0000, 0.0000, 0.0000],\n",
              "           [0.0000, 0.0000, 0.0000, 0.0000, 0.0000, 0.0000, 0.0000, 0.0000,\n",
              "            0.0000, 0.5843, 0.9059, 0.8588, 0.8784, 0.8431, 0.8745, 0.8314,\n",
              "            0.8275, 0.8824, 0.8275, 0.8902, 0.2275, 0.0000, 0.0078, 0.0000,\n",
              "            0.0000, 0.0000, 0.0000, 0.0000],\n",
              "           [0.0000, 0.0000, 0.0000, 0.0000, 0.0000, 0.0000, 0.0000, 0.0000,\n",
              "            0.0000, 0.7686, 0.8941, 0.8745, 0.8667, 0.8471, 0.8784, 0.8353,\n",
              "            0.8235, 0.8784, 0.8392, 0.8980, 0.4000, 0.0000, 0.0039, 0.0000,\n",
              "            0.0000, 0.0000, 0.0000, 0.0000],\n",
              "           [0.0000, 0.0000, 0.0000, 0.0000, 0.0000, 0.0000, 0.0078, 0.0000,\n",
              "            0.0000, 0.9412, 0.8706, 0.8980, 0.8588, 0.8510, 0.8902, 0.8431,\n",
              "            0.8275, 0.8667, 0.8471, 0.8941, 0.6392, 0.0000, 0.0000, 0.0000,\n",
              "            0.0000, 0.0000, 0.0000, 0.0000],\n",
              "           [0.0000, 0.0000, 0.0000, 0.0000, 0.0000, 0.0000, 0.0078, 0.0000,\n",
              "            0.0118, 0.8667, 0.8588, 0.9020, 0.8588, 0.8549, 0.8941, 0.8431,\n",
              "            0.8235, 0.8706, 0.8667, 0.8784, 0.8353, 0.0000, 0.0000, 0.0000,\n",
              "            0.0000, 0.0000, 0.0000, 0.0000],\n",
              "           [0.0000, 0.0000, 0.0000, 0.0000, 0.0000, 0.0000, 0.0118, 0.0000,\n",
              "            0.1412, 0.9098, 0.8549, 0.9059, 0.8627, 0.8627, 0.8902, 0.8471,\n",
              "            0.8235, 0.8627, 0.8784, 0.8627, 0.9569, 0.0000, 0.0000, 0.0000,\n",
              "            0.0000, 0.0000, 0.0000, 0.0000],\n",
              "           [0.0000, 0.0000, 0.0000, 0.0000, 0.0000, 0.0000, 0.0078, 0.0000,\n",
              "            0.3882, 0.9255, 0.8549, 0.9020, 0.8627, 0.8706, 0.9020, 0.8588,\n",
              "            0.8314, 0.8549, 0.8863, 0.8510, 0.8784, 0.1412, 0.0000, 0.0000,\n",
              "            0.0000, 0.0000, 0.0000, 0.0000],\n",
              "           [0.0000, 0.0000, 0.0000, 0.0000, 0.0000, 0.0000, 0.0078, 0.0000,\n",
              "            0.5569, 0.9333, 0.8627, 0.9098, 0.8627, 0.8824, 0.9137, 0.8706,\n",
              "            0.8392, 0.8588, 0.8863, 0.8549, 0.9098, 0.3020, 0.0000, 0.0000,\n",
              "            0.0000, 0.0000, 0.0000, 0.0000],\n",
              "           [0.0000, 0.0000, 0.0000, 0.0000, 0.0000, 0.0000, 0.0000, 0.0000,\n",
              "            0.6706, 0.9216, 0.8627, 0.8784, 0.8392, 0.8510, 0.8745, 0.8314,\n",
              "            0.8235, 0.8235, 0.8588, 0.8471, 0.9059, 0.4706, 0.0000, 0.0000,\n",
              "            0.0000, 0.0000, 0.0000, 0.0000],\n",
              "           [0.0000, 0.0000, 0.0000, 0.0000, 0.0000, 0.0000, 0.0000, 0.0000,\n",
              "            0.8627, 0.9451, 0.9216, 1.0000, 0.9922, 0.9922, 0.9922, 0.9882,\n",
              "            0.9843, 0.9882, 0.9922, 0.9098, 0.9608, 0.7765, 0.0000, 0.0000,\n",
              "            0.0000, 0.0000, 0.0000, 0.0000],\n",
              "           [0.0000, 0.0000, 0.0000, 0.0000, 0.0000, 0.0000, 0.0000, 0.0000,\n",
              "            0.0510, 0.1608, 0.2824, 0.3961, 0.4627, 0.5373, 0.5725, 0.5765,\n",
              "            0.5725, 0.5176, 0.4745, 0.4314, 0.4627, 0.2471, 0.0000, 0.0000,\n",
              "            0.0000, 0.0000, 0.0000, 0.0000]]]),\n",
              "  tensor([[[0.0000, 0.0000, 0.0000, 0.0000, 0.0000, 0.0000, 0.0000, 0.0000,\n",
              "            0.0000, 0.0000, 0.0000, 0.3255, 0.4784, 0.4392, 0.4392, 0.6588,\n",
              "            0.4078, 0.0000, 0.0000, 0.0000, 0.0000, 0.0000, 0.0000, 0.0000,\n",
              "            0.0000, 0.0000, 0.0000, 0.0000],\n",
              "           [0.0000, 0.0000, 0.0000, 0.0000, 0.0000, 0.0000, 0.0000, 0.0000,\n",
              "            0.1804, 0.4941, 0.7647, 0.7451, 0.8000, 0.6745, 0.8157, 0.8471,\n",
              "            0.7176, 0.7725, 0.4824, 0.2353, 0.0000, 0.0000, 0.0000, 0.0000,\n",
              "            0.0000, 0.0000, 0.0000, 0.0000],\n",
              "           [0.0000, 0.0000, 0.0000, 0.0039, 0.0078, 0.0000, 0.1373, 0.6314,\n",
              "            0.6549, 0.6784, 0.6392, 0.6314, 0.6431, 0.7255, 0.8039, 0.5922,\n",
              "            0.5922, 0.6431, 0.6627, 0.6549, 0.6039, 0.0000, 0.0000, 0.0000,\n",
              "            0.0000, 0.0000, 0.0000, 0.0000],\n",
              "           [0.0000, 0.0000, 0.0000, 0.0000, 0.0000, 0.0000, 0.5373, 0.6980,\n",
              "            0.5529, 0.6039, 0.5922, 0.6314, 0.5843, 0.6588, 0.8627, 0.6235,\n",
              "            0.6118, 0.6706, 0.5725, 0.5725, 0.7294, 0.4471, 0.0000, 0.0000,\n",
              "            0.0000, 0.0000, 0.0000, 0.0000],\n",
              "           [0.0000, 0.0000, 0.0000, 0.0078, 0.0000, 0.1059, 0.6667, 0.6196,\n",
              "            0.5922, 0.6157, 0.6157, 0.5961, 0.5020, 0.7569, 0.9765, 0.6118,\n",
              "            0.3647, 0.2471, 0.3059, 0.3922, 0.6353, 0.6314, 0.0902, 0.0000,\n",
              "            0.0000, 0.0000, 0.0000, 0.0000],\n",
              "           [0.0000, 0.0000, 0.0000, 0.0000, 0.0000, 0.4588, 0.6353, 0.6431,\n",
              "            0.5451, 0.6039, 0.6000, 0.5804, 0.5255, 0.7412, 0.9373, 0.6157,\n",
              "            0.4588, 0.5373, 0.4431, 0.3569, 0.6275, 0.6157, 0.4784, 0.0000,\n",
              "            0.0000, 0.0000, 0.0000, 0.0000],\n",
              "           [0.0000, 0.0000, 0.0000, 0.0000, 0.0510, 0.6039, 0.5843, 0.6902,\n",
              "            0.5255, 0.6196, 0.6039, 0.5882, 0.5176, 0.6667, 0.8000, 0.5882,\n",
              "            0.5137, 0.7843, 0.7961, 0.6039, 0.6549, 0.5686, 0.6118, 0.0784,\n",
              "            0.0000, 0.0000, 0.0000, 0.0000],\n",
              "           [0.0000, 0.0000, 0.0000, 0.0000, 0.3843, 0.6275, 0.5529, 0.7451,\n",
              "            0.5608, 0.6118, 0.5961, 0.6000, 0.4824, 0.7529, 0.9961, 0.5804,\n",
              "            0.1804, 0.3333, 0.3490, 0.4078, 0.7412, 0.5686, 0.6235, 0.4196,\n",
              "            0.0000, 0.0000, 0.0000, 0.0000],\n",
              "           [0.0000, 0.0000, 0.0000, 0.0000, 0.6471, 0.5725, 0.5725, 0.7333,\n",
              "            0.5333, 0.5843, 0.5882, 0.6118, 0.4902, 0.7451, 0.9608, 0.5529,\n",
              "            0.5451, 0.5922, 0.5451, 0.5255, 0.6627, 0.5725, 0.5725, 0.5569,\n",
              "            0.0000, 0.0000, 0.0000, 0.0000],\n",
              "           [0.0000, 0.0000, 0.0000, 0.3765, 0.6118, 0.5255, 0.5255, 0.6824,\n",
              "            0.5608, 0.5608, 0.5490, 0.5804, 0.5686, 0.5608, 0.5608, 0.5098,\n",
              "            0.5451, 0.5804, 0.5961, 0.5961, 0.6157, 0.5294, 0.5451, 0.6471,\n",
              "            0.4627, 0.0000, 0.0000, 0.0000],\n",
              "           [0.0000, 0.0000, 0.0000, 0.4706, 0.6627, 0.6549, 0.6314, 0.7176,\n",
              "            0.5569, 0.5725, 0.5843, 0.5882, 0.5725, 0.5412, 0.5451, 0.5765,\n",
              "            0.5176, 0.5490, 0.5843, 0.5373, 0.6706, 0.6588, 0.6275, 0.5882,\n",
              "            0.3922, 0.0000, 0.0000, 0.0000],\n",
              "           [0.0000, 0.0000, 0.0000, 0.0000, 0.0000, 0.2196, 0.3412, 0.6784,\n",
              "            0.5843, 0.5373, 0.5882, 0.6157, 0.5373, 0.5569, 0.5490, 0.5333,\n",
              "            0.5373, 0.5059, 0.5529, 0.6157, 0.5020, 0.1686, 0.0353, 0.0000,\n",
              "            0.0000, 0.0000, 0.0000, 0.0000],\n",
              "           [0.0000, 0.0000, 0.0000, 0.0000, 0.0000, 0.0000, 0.0000, 0.2549,\n",
              "            0.7137, 0.5490, 0.5804, 0.6000, 0.5529, 0.5255, 0.5490, 0.5451,\n",
              "            0.5451, 0.5373, 0.5725, 0.6235, 0.2196, 0.0000, 0.0000, 0.0000,\n",
              "            0.0000, 0.0000, 0.0000, 0.0000],\n",
              "           [0.0000, 0.0000, 0.0000, 0.0039, 0.0039, 0.0235, 0.0000, 0.3490,\n",
              "            0.6314, 0.5529, 0.6196, 0.5843, 0.5529, 0.5725, 0.5490, 0.5686,\n",
              "            0.5373, 0.5373, 0.5843, 0.6196, 0.3294, 0.0000, 0.0157, 0.0000,\n",
              "            0.0000, 0.0000, 0.0000, 0.0000],\n",
              "           [0.0000, 0.0000, 0.0000, 0.0000, 0.0000, 0.0118, 0.0000, 0.3333,\n",
              "            0.6275, 0.5451, 0.5804, 0.6392, 0.5686, 0.5412, 0.5608, 0.5569,\n",
              "            0.5529, 0.5176, 0.5765, 0.6196, 0.3255, 0.0000, 0.0039, 0.0000,\n",
              "            0.0000, 0.0000, 0.0000, 0.0000],\n",
              "           [0.0000, 0.0000, 0.0000, 0.0000, 0.0000, 0.0118, 0.0000, 0.3098,\n",
              "            0.6353, 0.5490, 0.5686, 0.6235, 0.5373, 0.5529, 0.5451, 0.5412,\n",
              "            0.5490, 0.5098, 0.5725, 0.6353, 0.3647, 0.0000, 0.0000, 0.0000,\n",
              "            0.0000, 0.0000, 0.0000, 0.0000],\n",
              "           [0.0000, 0.0000, 0.0000, 0.0000, 0.0000, 0.0118, 0.0000, 0.2824,\n",
              "            0.6392, 0.5412, 0.5804, 0.6039, 0.5569, 0.5137, 0.5569, 0.5608,\n",
              "            0.5373, 0.5373, 0.5765, 0.6588, 0.4235, 0.0000, 0.0000, 0.0000,\n",
              "            0.0000, 0.0000, 0.0000, 0.0000],\n",
              "           [0.0000, 0.0000, 0.0000, 0.0000, 0.0000, 0.0118, 0.0000, 0.2863,\n",
              "            0.6314, 0.5451, 0.5804, 0.6118, 0.5608, 0.5255, 0.5725, 0.5686,\n",
              "            0.5569, 0.5569, 0.5725, 0.6627, 0.4588, 0.0000, 0.0000, 0.0000,\n",
              "            0.0000, 0.0000, 0.0000, 0.0000],\n",
              "           [0.0000, 0.0000, 0.0000, 0.0000, 0.0000, 0.0118, 0.0000, 0.2863,\n",
              "            0.6353, 0.5529, 0.5882, 0.5843, 0.5765, 0.5686, 0.5451, 0.5137,\n",
              "            0.5882, 0.5686, 0.5529, 0.6627, 0.4627, 0.0000, 0.0000, 0.0000,\n",
              "            0.0000, 0.0000, 0.0000, 0.0000],\n",
              "           [0.0000, 0.0000, 0.0000, 0.0000, 0.0000, 0.0118, 0.0000, 0.2863,\n",
              "            0.6431, 0.5725, 0.5843, 0.6235, 0.5608, 0.5451, 0.5843, 0.5333,\n",
              "            0.5608, 0.5804, 0.5686, 0.6588, 0.5020, 0.0000, 0.0000, 0.0000,\n",
              "            0.0000, 0.0000, 0.0000, 0.0000],\n",
              "           [0.0000, 0.0000, 0.0000, 0.0000, 0.0000, 0.0078, 0.0000, 0.2902,\n",
              "            0.6353, 0.5765, 0.5804, 0.6196, 0.5882, 0.5333, 0.5725, 0.5686,\n",
              "            0.5686, 0.6118, 0.5686, 0.6667, 0.5412, 0.0000, 0.0000, 0.0000,\n",
              "            0.0000, 0.0000, 0.0000, 0.0000],\n",
              "           [0.0000, 0.0000, 0.0000, 0.0000, 0.0000, 0.0078, 0.0000, 0.3098,\n",
              "            0.6431, 0.5804, 0.5608, 0.6431, 0.5882, 0.5137, 0.5804, 0.5569,\n",
              "            0.5451, 0.6039, 0.5882, 0.6588, 0.5843, 0.0000, 0.0000, 0.0000,\n",
              "            0.0000, 0.0000, 0.0000, 0.0000],\n",
              "           [0.0000, 0.0000, 0.0000, 0.0000, 0.0000, 0.0078, 0.0000, 0.3333,\n",
              "            0.6431, 0.5922, 0.5804, 0.6196, 0.5922, 0.5333, 0.6157, 0.5490,\n",
              "            0.5882, 0.6196, 0.5843, 0.6471, 0.6039, 0.0000, 0.0000, 0.0000,\n",
              "            0.0000, 0.0000, 0.0000, 0.0000],\n",
              "           [0.0000, 0.0000, 0.0000, 0.0000, 0.0000, 0.0039, 0.0000, 0.4039,\n",
              "            0.6471, 0.6039, 0.5765, 0.6235, 0.5882, 0.5098, 0.5843, 0.5451,\n",
              "            0.5608, 0.6431, 0.6196, 0.6549, 0.5373, 0.0000, 0.0000, 0.0039,\n",
              "            0.0000, 0.0000, 0.0000, 0.0000],\n",
              "           [0.0000, 0.0000, 0.0000, 0.0000, 0.0000, 0.0000, 0.0000, 0.4510,\n",
              "            0.6549, 0.6157, 0.6000, 0.6353, 0.6039, 0.5529, 0.6000, 0.5686,\n",
              "            0.5804, 0.6314, 0.6275, 0.6667, 0.5529, 0.0000, 0.0000, 0.0039,\n",
              "            0.0000, 0.0000, 0.0000, 0.0000],\n",
              "           [0.0000, 0.0000, 0.0000, 0.0000, 0.0000, 0.0000, 0.0000, 0.4196,\n",
              "            0.6431, 0.5882, 0.5804, 0.5529, 0.5412, 0.5176, 0.5412, 0.5373,\n",
              "            0.5529, 0.5686, 0.6000, 0.6275, 0.5333, 0.0000, 0.0000, 0.0039,\n",
              "            0.0000, 0.0000, 0.0000, 0.0000],\n",
              "           [0.0000, 0.0000, 0.0000, 0.0000, 0.0000, 0.0000, 0.0000, 0.5098,\n",
              "            0.7765, 0.6784, 0.7647, 0.7490, 0.7294, 0.7059, 0.7059, 0.7176,\n",
              "            0.7412, 0.8078, 0.7098, 0.7059, 0.6275, 0.0000, 0.0000, 0.0039,\n",
              "            0.0000, 0.0000, 0.0000, 0.0000],\n",
              "           [0.0000, 0.0000, 0.0000, 0.0000, 0.0000, 0.0000, 0.0000, 0.2235,\n",
              "            0.3294, 0.2627, 0.3176, 0.3373, 0.4078, 0.4471, 0.4196, 0.3961,\n",
              "            0.3725, 0.3490, 0.3490, 0.4235, 0.3804, 0.0000, 0.0000, 0.0000,\n",
              "            0.0000, 0.0000, 0.0000, 0.0000]]]),\n",
              "  tensor([[[0.0000, 0.0000, 0.0000, 0.0000, 0.0039, 0.0000, 0.0039, 0.0000,\n",
              "            0.0000, 0.0000, 0.0000, 0.1255, 0.4941, 0.4863, 0.5255, 0.5529,\n",
              "            0.0549, 0.0000, 0.0039, 0.0000, 0.0000, 0.0000, 0.0000, 0.0000,\n",
              "            0.0000, 0.0000, 0.0000, 0.0000],\n",
              "           [0.0000, 0.0000, 0.0000, 0.0000, 0.0039, 0.0000, 0.0000, 0.0039,\n",
              "            0.0078, 0.0000, 0.0000, 0.8353, 0.9765, 1.0000, 0.9765, 0.9725,\n",
              "            0.5098, 0.0000, 0.0000, 0.0000, 0.0039, 0.0000, 0.0000, 0.0000,\n",
              "            0.0000, 0.0000, 0.0000, 0.0000],\n",
              "           [0.0000, 0.0000, 0.0000, 0.0000, 0.0078, 0.0000, 0.0118, 0.0039,\n",
              "            0.0000, 0.0000, 0.4314, 0.8824, 0.8353, 0.8118, 0.7451, 0.7961,\n",
              "            0.8549, 0.2824, 0.0000, 0.0000, 0.0039, 0.0039, 0.0039, 0.0000,\n",
              "            0.0000, 0.0000, 0.0000, 0.0000],\n",
              "           [0.0000, 0.0000, 0.0000, 0.0000, 0.0039, 0.0078, 0.0000, 0.0039,\n",
              "            0.4627, 0.8549, 0.8706, 0.8431, 0.8667, 0.8000, 0.8235, 0.7804,\n",
              "            0.8039, 0.8431, 0.8039, 0.3373, 0.0000, 0.0000, 0.0039, 0.0000,\n",
              "            0.0000, 0.0000, 0.0000, 0.0000],\n",
              "           [0.0000, 0.0000, 0.0000, 0.0000, 0.0000, 0.0000, 0.0941, 0.8980,\n",
              "            0.8235, 0.7882, 0.7333, 0.7373, 0.8000, 0.8902, 0.7686, 0.7216,\n",
              "            0.7059, 0.6980, 0.7647, 0.8196, 0.8549, 0.0118, 0.0000, 0.0000,\n",
              "            0.0000, 0.0000, 0.0000, 0.0000],\n",
              "           [0.0000, 0.0000, 0.0000, 0.0000, 0.0039, 0.0000, 0.8549, 0.8118,\n",
              "            0.7373, 0.7490, 0.7451, 0.7333, 0.7451, 0.6863, 0.6863, 0.7216,\n",
              "            0.7333, 0.7608, 0.7647, 0.7451, 0.8314, 0.6784, 0.0000, 0.0039,\n",
              "            0.0000, 0.0000, 0.0000, 0.0000],\n",
              "           [0.0000, 0.0000, 0.0000, 0.0000, 0.0000, 0.4941, 0.8510, 0.7294,\n",
              "            0.7608, 0.7412, 0.7333, 0.7294, 0.7333, 0.6784, 0.7373, 0.7412,\n",
              "            0.7294, 0.7216, 0.7373, 0.7294, 0.7529, 0.8196, 0.1843, 0.0000,\n",
              "            0.0000, 0.0000, 0.0000, 0.0000],\n",
              "           [0.0000, 0.0000, 0.0000, 0.0000, 0.0000, 0.8863, 0.8118, 0.7059,\n",
              "            0.7176, 0.7333, 0.7216, 0.7216, 0.7373, 0.7020, 0.7412, 0.7373,\n",
              "            0.7294, 0.7373, 0.7137, 0.6667, 0.7725, 0.8275, 0.5882, 0.0000,\n",
              "            0.0000, 0.0000, 0.0000, 0.0000],\n",
              "           [0.0000, 0.0000, 0.0000, 0.0000, 0.0471, 0.9137, 0.8510, 0.7765,\n",
              "            0.7373, 0.7176, 0.7373, 0.7176, 0.7373, 0.6863, 0.7373, 0.7373,\n",
              "            0.7176, 0.7216, 0.7216, 0.7059, 0.8039, 0.8314, 0.7098, 0.0000,\n",
              "            0.0000, 0.0000, 0.0000, 0.0000],\n",
              "           [0.0000, 0.0000, 0.0000, 0.0000, 0.1569, 0.9176, 0.8392, 0.7647,\n",
              "            0.7373, 0.7294, 0.7333, 0.7216, 0.7373, 0.7059, 0.7333, 0.7333,\n",
              "            0.7294, 0.7137, 0.7098, 0.7137, 0.8627, 0.8353, 0.7333, 0.0000,\n",
              "            0.0000, 0.0000, 0.0000, 0.0000],\n",
              "           [0.0000, 0.0000, 0.0000, 0.0000, 0.2863, 0.8667, 0.8039, 0.8510,\n",
              "            0.7451, 0.8078, 0.7490, 0.7686, 0.7412, 0.7294, 0.7686, 0.7529,\n",
              "            0.7529, 0.7333, 0.7294, 0.7373, 0.8902, 0.8510, 0.7686, 0.0000,\n",
              "            0.0000, 0.0000, 0.0000, 0.0000],\n",
              "           [0.0000, 0.0000, 0.0000, 0.0000, 0.3843, 0.8314, 0.8510, 0.8980,\n",
              "            0.7333, 0.7647, 0.7725, 0.7804, 0.7490, 0.7608, 0.7725, 0.7490,\n",
              "            0.7686, 0.7490, 0.7333, 0.7176, 0.8549, 0.8431, 0.8510, 0.0000,\n",
              "            0.0000, 0.0000, 0.0000, 0.0000],\n",
              "           [0.0000, 0.0000, 0.0000, 0.0000, 0.4078, 0.8118, 0.8902, 0.9451,\n",
              "            0.7412, 0.7412, 0.7412, 0.7686, 0.7765, 0.7804, 0.8000, 0.7490,\n",
              "            0.7686, 0.7608, 0.7176, 0.7451, 0.8431, 0.8235, 0.8549, 0.0000,\n",
              "            0.0000, 0.0000, 0.0000, 0.0000],\n",
              "           [0.0000, 0.0000, 0.0000, 0.0000, 0.4275, 0.8235, 0.9294, 0.9216,\n",
              "            0.7647, 0.8235, 0.8039, 0.7882, 0.8235, 0.7804, 0.7882, 0.8235,\n",
              "            0.7961, 0.7451, 0.7294, 0.7804, 0.8588, 0.8118, 0.8431, 0.0078,\n",
              "            0.0000, 0.0000, 0.0000, 0.0000],\n",
              "           [0.0000, 0.0000, 0.0000, 0.0000, 0.4039, 0.8431, 0.9647, 0.8667,\n",
              "            0.7725, 0.8078, 0.8588, 0.7882, 0.8000, 0.8196, 0.7922, 0.8196,\n",
              "            0.8431, 0.7922, 0.7373, 0.7725, 0.8000, 0.8078, 0.8353, 0.0706,\n",
              "            0.0000, 0.0000, 0.0000, 0.0000],\n",
              "           [0.0000, 0.0000, 0.0000, 0.0000, 0.3569, 0.8745, 0.9804, 0.8275,\n",
              "            0.7804, 0.7804, 0.8667, 0.7922, 0.8039, 0.8275, 0.7922, 0.7765,\n",
              "            0.8588, 0.8745, 0.7137, 0.8275, 0.8275, 0.7608, 0.8275, 0.1647,\n",
              "            0.0000, 0.0000, 0.0000, 0.0000],\n",
              "           [0.0000, 0.0000, 0.0000, 0.0000, 0.3529, 0.8745, 0.9529, 0.8118,\n",
              "            0.8118, 0.8196, 0.8510, 0.7686, 0.8000, 0.8510, 0.8000, 0.7529,\n",
              "            0.8392, 0.8549, 0.7059, 0.8039, 0.8941, 0.8353, 0.8314, 0.2471,\n",
              "            0.0000, 0.0000, 0.0000, 0.0000],\n",
              "           [0.0000, 0.0000, 0.0000, 0.0000, 0.3765, 0.8667, 0.9176, 0.9020,\n",
              "            0.8118, 0.8627, 0.8627, 0.8196, 0.8235, 0.8235, 0.8000, 0.8353,\n",
              "            0.8706, 0.8980, 0.7765, 0.7608, 0.8706, 0.8588, 0.8510, 0.3373,\n",
              "            0.0000, 0.0000, 0.0000, 0.0000],\n",
              "           [0.0000, 0.0000, 0.0000, 0.0000, 0.4314, 0.8392, 0.9216, 0.8902,\n",
              "            0.6510, 0.8510, 0.8118, 0.7961, 0.7961, 0.8588, 0.8039, 0.8000,\n",
              "            0.8275, 0.8196, 0.8235, 0.6118, 0.8745, 0.8549, 0.8314, 0.3686,\n",
              "            0.0000, 0.0000, 0.0000, 0.0000],\n",
              "           [0.0000, 0.0000, 0.0000, 0.0000, 0.5059, 0.8392, 0.9137, 0.6588,\n",
              "            0.6235, 0.8980, 0.8706, 0.8824, 0.8863, 0.8588, 0.8235, 0.8588,\n",
              "            0.8745, 0.8824, 0.8902, 0.4549, 0.9255, 0.8706, 0.8627, 0.4157,\n",
              "            0.0000, 0.0000, 0.0000, 0.0000],\n",
              "           [0.0000, 0.0000, 0.0000, 0.0000, 0.5412, 0.8314, 0.9020, 0.4549,\n",
              "            0.0000, 0.1686, 0.0431, 0.0431, 0.0706, 0.0000, 0.0000, 0.0000,\n",
              "            0.0000, 0.0196, 0.0000, 0.0000, 0.9451, 0.8667, 0.8431, 0.5059,\n",
              "            0.0000, 0.0000, 0.0000, 0.0000],\n",
              "           [0.0000, 0.0000, 0.0000, 0.0000, 0.5059, 0.8510, 0.9333, 0.1529,\n",
              "            0.0000, 0.0000, 0.0000, 0.0000, 0.0000, 0.0000, 0.0000, 0.0000,\n",
              "            0.0000, 0.0000, 0.0000, 0.0000, 0.8000, 0.8824, 0.8392, 0.4980,\n",
              "            0.0000, 0.0000, 0.0000, 0.0000],\n",
              "           [0.0000, 0.0000, 0.0000, 0.0000, 0.5020, 0.8510, 0.9451, 0.0000,\n",
              "            0.0000, 0.0157, 0.0078, 0.0157, 0.0118, 0.0078, 0.0078, 0.0078,\n",
              "            0.0118, 0.0078, 0.0000, 0.0000, 0.6431, 0.8824, 0.8353, 0.4902,\n",
              "            0.0000, 0.0000, 0.0000, 0.0000],\n",
              "           [0.0000, 0.0000, 0.0000, 0.0000, 0.4902, 0.8510, 0.8196, 0.0000,\n",
              "            0.0000, 0.0039, 0.0000, 0.0000, 0.0000, 0.0000, 0.0000, 0.0039,\n",
              "            0.0000, 0.0000, 0.0039, 0.0000, 0.4392, 0.8824, 0.8118, 0.4745,\n",
              "            0.0000, 0.0000, 0.0000, 0.0000],\n",
              "           [0.0000, 0.0000, 0.0000, 0.0000, 0.4471, 0.8353, 0.8235, 0.0039,\n",
              "            0.0000, 0.0118, 0.0000, 0.0000, 0.0039, 0.0000, 0.0000, 0.0039,\n",
              "            0.0000, 0.0000, 0.0118, 0.0000, 0.2549, 0.8824, 0.8196, 0.4196,\n",
              "            0.0000, 0.0000, 0.0000, 0.0000],\n",
              "           [0.0000, 0.0000, 0.0000, 0.0000, 0.6235, 0.8549, 0.8745, 0.0118,\n",
              "            0.0000, 0.0196, 0.0000, 0.0000, 0.0000, 0.0000, 0.0000, 0.0000,\n",
              "            0.0000, 0.0000, 0.0196, 0.0000, 0.1686, 0.9098, 0.8510, 0.6235,\n",
              "            0.0000, 0.0000, 0.0000, 0.0000],\n",
              "           [0.0000, 0.0000, 0.0000, 0.0000, 0.4118, 0.6471, 0.6863, 0.0000,\n",
              "            0.0000, 0.0118, 0.0000, 0.0000, 0.0000, 0.0000, 0.0000, 0.0000,\n",
              "            0.0000, 0.0039, 0.0118, 0.0000, 0.0627, 0.7216, 0.6314, 0.5647,\n",
              "            0.0000, 0.0000, 0.0000, 0.0000],\n",
              "           [0.0000, 0.0000, 0.0000, 0.0000, 0.0000, 0.0000, 0.0000, 0.0000,\n",
              "            0.0039, 0.0000, 0.0000, 0.0000, 0.0000, 0.0000, 0.0000, 0.0000,\n",
              "            0.0000, 0.0039, 0.0000, 0.0000, 0.0000, 0.0000, 0.0000, 0.0000,\n",
              "            0.0000, 0.0000, 0.0000, 0.0000]]]),\n",
              "  tensor([[[0.0000, 0.0000, 0.0000, 0.0000, 0.0000, 0.0000, 0.0000, 0.0000,\n",
              "            0.0000, 0.0000, 0.0000, 0.0000, 0.0000, 0.0000, 0.0000, 0.0000,\n",
              "            0.0000, 0.0000, 0.0000, 0.0000, 0.0000, 0.0000, 0.0000, 0.0000,\n",
              "            0.0000, 0.0000, 0.0000, 0.0000],\n",
              "           [0.0000, 0.0000, 0.0000, 0.0000, 0.0000, 0.0000, 0.0000, 0.0000,\n",
              "            0.0000, 0.0000, 0.0000, 0.0000, 0.0000, 0.0000, 0.0000, 0.0000,\n",
              "            0.0000, 0.0000, 0.0000, 0.0000, 0.0000, 0.0000, 0.0000, 0.0000,\n",
              "            0.0000, 0.0000, 0.0000, 0.0000],\n",
              "           [0.0000, 0.0000, 0.0000, 0.0000, 0.0000, 0.0000, 0.0000, 0.0000,\n",
              "            0.0000, 0.0000, 0.0000, 0.0000, 0.0000, 0.0000, 0.0000, 0.0000,\n",
              "            0.0000, 0.0000, 0.0000, 0.0000, 0.0000, 0.0000, 0.0000, 0.0000,\n",
              "            0.0000, 0.0000, 0.0000, 0.0000],\n",
              "           [0.0000, 0.0000, 0.0000, 0.0000, 0.0000, 0.0000, 0.0000, 0.0000,\n",
              "            0.0000, 0.0000, 0.0000, 0.0000, 0.0000, 0.0000, 0.0000, 0.0000,\n",
              "            0.0000, 0.0000, 0.0000, 0.0000, 0.0000, 0.0000, 0.0000, 0.0000,\n",
              "            0.0000, 0.0000, 0.0000, 0.0000],\n",
              "           [0.0000, 0.0000, 0.0000, 0.0000, 0.0000, 0.0000, 0.0000, 0.0000,\n",
              "            0.0000, 0.0000, 0.0000, 0.0000, 0.0000, 0.0000, 0.0000, 0.0000,\n",
              "            0.0000, 0.0000, 0.0000, 0.0000, 0.0000, 0.0000, 0.0000, 0.0000,\n",
              "            0.0000, 0.0000, 0.0000, 0.0000],\n",
              "           [0.0000, 0.0000, 0.0000, 0.0000, 0.0000, 0.0000, 0.0000, 0.0000,\n",
              "            0.0000, 0.0000, 0.0000, 0.0000, 0.0000, 0.0000, 0.0000, 0.0000,\n",
              "            0.0000, 0.0000, 0.0000, 0.0000, 0.0000, 0.0000, 0.0000, 0.0000,\n",
              "            0.0000, 0.0000, 0.0000, 0.0000],\n",
              "           [0.0000, 0.0000, 0.0000, 0.0000, 0.0000, 0.0000, 0.0000, 0.0000,\n",
              "            0.0000, 0.0000, 0.0000, 0.0000, 0.0000, 0.0000, 0.0000, 0.0000,\n",
              "            0.0000, 0.0000, 0.0000, 0.0000, 0.0000, 0.0000, 0.0000, 0.0000,\n",
              "            0.0000, 0.0000, 0.0000, 0.0000],\n",
              "           [0.0000, 0.0000, 0.0000, 0.0000, 0.0000, 0.0000, 0.0000, 0.0000,\n",
              "            0.0000, 0.0000, 0.0000, 0.0000, 0.0000, 0.0000, 0.0000, 0.0000,\n",
              "            0.0000, 0.0000, 0.0000, 0.0000, 0.0000, 0.0000, 0.0000, 0.0000,\n",
              "            0.0000, 0.0000, 0.0000, 0.0000],\n",
              "           [0.0000, 0.0000, 0.0000, 0.0000, 0.0039, 0.0118, 0.0000, 0.0000,\n",
              "            0.0118, 0.0000, 0.0118, 0.0118, 0.0118, 0.0157, 0.0000, 0.0863,\n",
              "            0.3882, 0.6706, 0.5294, 0.0000, 0.0118, 0.0000, 0.0000, 0.0000,\n",
              "            0.0000, 0.0000, 0.0000, 0.0000],\n",
              "           [0.0000, 0.0000, 0.0000, 0.0000, 0.0118, 0.0039, 0.0000, 0.0000,\n",
              "            0.0118, 0.0039, 0.0118, 0.0000, 0.0000, 0.0000, 0.0000, 0.0353,\n",
              "            1.0000, 0.9608, 0.2588, 0.0000, 0.0000, 0.0000, 0.0000, 0.0000,\n",
              "            0.0235, 0.0000, 0.0863, 0.2588],\n",
              "           [0.0000, 0.0000, 0.0000, 0.0000, 0.0000, 0.0000, 0.0118, 0.0000,\n",
              "            0.0118, 0.0039, 0.0000, 0.0000, 0.1961, 0.7255, 0.0863, 0.1961,\n",
              "            0.6471, 0.5216, 0.7020, 0.5843, 0.0000, 0.0000, 0.0000, 0.0118,\n",
              "            0.8078, 0.3686, 0.1412, 0.4235],\n",
              "           [0.0000, 0.0000, 0.0000, 0.0000, 0.0000, 0.0000, 0.0000, 0.0000,\n",
              "            0.0000, 0.0000, 0.0275, 0.5412, 0.7451, 0.7686, 0.5176, 0.1882,\n",
              "            0.2588, 0.7686, 0.4353, 0.8078, 0.7961, 0.0902, 0.1020, 0.6941,\n",
              "            0.6471, 0.0706, 0.4863, 0.4235],\n",
              "           [0.0000, 0.0000, 0.0000, 0.0000, 0.0000, 0.0000, 0.0000, 0.1137,\n",
              "            0.1569, 0.4902, 0.7882, 0.7647, 0.7647, 0.0902, 0.5216, 0.5294,\n",
              "            0.0784, 0.5098, 0.8118, 0.2392, 0.9608, 0.8549, 0.8314, 0.9922,\n",
              "            0.1765, 0.2000, 0.6039, 0.4118],\n",
              "           [0.0000, 0.0000, 0.0000, 0.0000, 0.0000, 0.0000, 0.0588, 0.4627,\n",
              "            0.7882, 0.8235, 0.7961, 0.5333, 0.2314, 0.3020, 0.2157, 0.4314,\n",
              "            0.3608, 0.0000, 0.3765, 0.5647, 0.1294, 0.5176, 0.9373, 0.4000,\n",
              "            0.0980, 0.3608, 0.3176, 0.4667],\n",
              "           [0.0000, 0.0275, 0.0706, 0.1137, 0.1137, 0.1294, 0.2431, 0.4353,\n",
              "            0.6196, 0.5843, 0.1765, 0.3059, 0.1843, 0.2941, 0.3569, 0.2275,\n",
              "            0.6196, 0.4863, 0.2745, 0.5333, 0.5765, 0.3137, 0.0039, 0.1098,\n",
              "            0.3059, 0.3059, 0.3255, 0.4863],\n",
              "           [0.2157, 0.2275, 0.2000, 0.2078, 0.2510, 0.2627, 0.2392, 0.3569,\n",
              "            0.0157, 0.1451, 0.2824, 0.2745, 0.3255, 0.3059, 0.3176, 0.2000,\n",
              "            0.3020, 0.5843, 0.5098, 0.3608, 0.4745, 0.5294, 0.6784, 0.4863,\n",
              "            0.5059, 0.3608, 0.3490, 0.4902],\n",
              "           [0.3137, 0.3137, 0.2157, 0.1882, 0.2078, 0.2314, 0.2196, 0.2588,\n",
              "            0.3333, 0.3373, 0.3373, 0.2314, 0.3137, 0.3490, 0.2157, 0.1294,\n",
              "            0.1647, 0.2863, 0.5647, 0.6196, 0.6078, 0.6510, 0.6824, 0.5176,\n",
              "            0.4549, 0.3608, 0.3882, 0.4471],\n",
              "           [0.3569, 0.4314, 0.2824, 0.2706, 0.2392, 0.2588, 0.2392, 0.2314,\n",
              "            0.2588, 0.3020, 0.2588, 0.2510, 0.2745, 0.2392, 0.3059, 0.3882,\n",
              "            0.4235, 0.4549, 0.5176, 0.5059, 0.6039, 0.6667, 0.4902, 0.5098,\n",
              "            0.5647, 0.5647, 0.5216, 0.2824],\n",
              "           [0.0667, 0.3373, 0.4314, 0.3490, 0.2588, 0.2275, 0.2000, 0.1843,\n",
              "            0.2745, 0.2314, 0.3059, 0.3569, 0.3608, 0.5059, 0.4549, 0.4431,\n",
              "            0.2627, 0.2392, 0.4000, 0.3882, 0.3137, 0.2392, 0.2745, 0.3569,\n",
              "            0.3608, 0.1647, 0.0902, 0.0039],\n",
              "           [0.0000, 0.0275, 0.1294, 0.3922, 0.4667, 0.4196, 0.3569, 0.3020,\n",
              "            0.3020, 0.3020, 0.3137, 0.3137, 0.3020, 0.2706, 0.1333, 0.0431,\n",
              "            0.0902, 0.2745, 0.1882, 0.1529, 0.1647, 0.1451, 0.0784, 0.0118,\n",
              "            0.0000, 0.0000, 0.0000, 0.0000],\n",
              "           [0.0000, 0.0000, 0.0000, 0.0000, 0.0431, 0.1882, 0.3255, 0.3176,\n",
              "            0.1569, 0.1529, 0.1529, 0.1020, 0.0471, 0.0000, 0.0118, 0.0431,\n",
              "            0.0667, 0.1451, 0.1216, 0.0471, 0.0000, 0.0000, 0.0000, 0.0039,\n",
              "            0.0039, 0.0157, 0.0275, 0.0157],\n",
              "           [0.0000, 0.0000, 0.0000, 0.0000, 0.0000, 0.0000, 0.0000, 0.0000,\n",
              "            0.0000, 0.0000, 0.0000, 0.0000, 0.0000, 0.0000, 0.0000, 0.0000,\n",
              "            0.0000, 0.0000, 0.0000, 0.0000, 0.0000, 0.0000, 0.0000, 0.0000,\n",
              "            0.0000, 0.0000, 0.0000, 0.0000],\n",
              "           [0.0000, 0.0000, 0.0000, 0.0000, 0.0000, 0.0000, 0.0000, 0.0000,\n",
              "            0.0000, 0.0000, 0.0000, 0.0000, 0.0000, 0.0000, 0.0000, 0.0000,\n",
              "            0.0000, 0.0000, 0.0000, 0.0000, 0.0000, 0.0000, 0.0000, 0.0000,\n",
              "            0.0000, 0.0000, 0.0000, 0.0000],\n",
              "           [0.0000, 0.0000, 0.0000, 0.0000, 0.0000, 0.0000, 0.0000, 0.0000,\n",
              "            0.0000, 0.0000, 0.0000, 0.0000, 0.0000, 0.0000, 0.0000, 0.0000,\n",
              "            0.0000, 0.0000, 0.0000, 0.0000, 0.0000, 0.0000, 0.0000, 0.0000,\n",
              "            0.0000, 0.0000, 0.0000, 0.0000],\n",
              "           [0.0000, 0.0000, 0.0000, 0.0000, 0.0000, 0.0000, 0.0000, 0.0000,\n",
              "            0.0000, 0.0000, 0.0000, 0.0000, 0.0000, 0.0000, 0.0000, 0.0000,\n",
              "            0.0000, 0.0000, 0.0000, 0.0000, 0.0000, 0.0000, 0.0000, 0.0000,\n",
              "            0.0000, 0.0000, 0.0000, 0.0000],\n",
              "           [0.0000, 0.0000, 0.0000, 0.0000, 0.0000, 0.0000, 0.0000, 0.0000,\n",
              "            0.0000, 0.0000, 0.0000, 0.0000, 0.0000, 0.0000, 0.0000, 0.0000,\n",
              "            0.0000, 0.0000, 0.0000, 0.0000, 0.0000, 0.0000, 0.0000, 0.0000,\n",
              "            0.0000, 0.0000, 0.0000, 0.0000],\n",
              "           [0.0000, 0.0000, 0.0000, 0.0000, 0.0000, 0.0000, 0.0000, 0.0000,\n",
              "            0.0000, 0.0000, 0.0000, 0.0000, 0.0000, 0.0000, 0.0000, 0.0000,\n",
              "            0.0000, 0.0000, 0.0000, 0.0000, 0.0000, 0.0000, 0.0000, 0.0000,\n",
              "            0.0000, 0.0000, 0.0000, 0.0000],\n",
              "           [0.0000, 0.0000, 0.0000, 0.0000, 0.0000, 0.0000, 0.0000, 0.0000,\n",
              "            0.0000, 0.0000, 0.0000, 0.0000, 0.0000, 0.0000, 0.0000, 0.0000,\n",
              "            0.0000, 0.0000, 0.0000, 0.0000, 0.0000, 0.0000, 0.0000, 0.0000,\n",
              "            0.0000, 0.0000, 0.0000, 0.0000]]]),\n",
              "  tensor([[[0.0000, 0.0000, 0.0000, 0.0000, 0.0000, 0.0000, 0.0000, 0.0000,\n",
              "            0.0000, 0.0000, 0.5020, 0.4392, 0.4000, 0.3922, 0.3922, 0.4157,\n",
              "            0.4235, 0.5529, 0.0000, 0.0000, 0.0000, 0.0000, 0.0000, 0.0000,\n",
              "            0.0000, 0.0000, 0.0000, 0.0000],\n",
              "           [0.0000, 0.0000, 0.0000, 0.0000, 0.0000, 0.0000, 0.0000, 0.0000,\n",
              "            0.0000, 0.0000, 1.0000, 1.0000, 1.0000, 1.0000, 0.9961, 1.0000,\n",
              "            0.9843, 1.0000, 0.2784, 0.0000, 0.0000, 0.0000, 0.0000, 0.0000,\n",
              "            0.0000, 0.0000, 0.0000, 0.0000],\n",
              "           [0.0000, 0.0000, 0.0000, 0.0000, 0.0000, 0.0000, 0.0000, 0.0000,\n",
              "            0.0000, 0.2510, 0.9961, 0.8471, 0.8471, 0.8471, 0.8510, 0.8549,\n",
              "            0.8157, 0.9176, 0.4902, 0.0000, 0.0000, 0.0000, 0.0000, 0.0000,\n",
              "            0.0000, 0.0000, 0.0000, 0.0000],\n",
              "           [0.0000, 0.0000, 0.0000, 0.0000, 0.0000, 0.0000, 0.0000, 0.0000,\n",
              "            0.0000, 0.4667, 0.9961, 0.8510, 0.8902, 0.8941, 0.8824, 0.8667,\n",
              "            0.8824, 0.9176, 0.7412, 0.0000, 0.0000, 0.0000, 0.0000, 0.0000,\n",
              "            0.0000, 0.0000, 0.0000, 0.0000],\n",
              "           [0.0000, 0.0000, 0.0000, 0.0000, 0.0000, 0.0000, 0.0000, 0.0000,\n",
              "            0.0000, 0.5098, 0.9922, 0.8353, 0.8627, 0.8588, 0.8588, 0.8549,\n",
              "            0.8549, 0.8471, 0.7843, 0.0000, 0.0000, 0.0000, 0.0000, 0.0000,\n",
              "            0.0000, 0.0000, 0.0000, 0.0000],\n",
              "           [0.0000, 0.0000, 0.0000, 0.0000, 0.0000, 0.0000, 0.0000, 0.0000,\n",
              "            0.0000, 0.5373, 0.9843, 0.8431, 0.8706, 0.9020, 0.9333, 0.8667,\n",
              "            0.8510, 0.8471, 0.7804, 0.0000, 0.0000, 0.0000, 0.0000, 0.0000,\n",
              "            0.0000, 0.0000, 0.0000, 0.0000],\n",
              "           [0.0000, 0.0000, 0.0000, 0.0000, 0.0000, 0.0000, 0.0000, 0.0000,\n",
              "            0.0000, 0.5373, 0.9961, 0.8235, 0.8627, 0.8471, 0.8000, 0.9451,\n",
              "            0.8431, 0.8588, 0.7490, 0.0000, 0.0000, 0.0000, 0.0000, 0.0000,\n",
              "            0.0000, 0.0000, 0.0000, 0.0000],\n",
              "           [0.0000, 0.0000, 0.0000, 0.0000, 0.0000, 0.0000, 0.0000, 0.0000,\n",
              "            0.0000, 0.3804, 0.9961, 0.8118, 0.9255, 0.6863, 0.1647, 1.0000,\n",
              "            0.8118, 0.9020, 0.6706, 0.0000, 0.0000, 0.0000, 0.0000, 0.0000,\n",
              "            0.0000, 0.0000, 0.0000, 0.0000],\n",
              "           [0.0000, 0.0000, 0.0000, 0.0000, 0.0000, 0.0000, 0.0000, 0.0000,\n",
              "            0.0000, 0.2000, 1.0000, 0.8157, 0.9294, 0.7020, 0.1255, 1.0000,\n",
              "            0.8039, 0.9490, 0.4902, 0.0000, 0.0000, 0.0000, 0.0000, 0.0000,\n",
              "            0.0000, 0.0000, 0.0000, 0.0000],\n",
              "           [0.0000, 0.0000, 0.0000, 0.0000, 0.0000, 0.0000, 0.0000, 0.0000,\n",
              "            0.0000, 0.0431, 1.0000, 0.8431, 0.9412, 0.6627, 0.1216, 1.0000,\n",
              "            0.8000, 0.9725, 0.3176, 0.0000, 0.0000, 0.0000, 0.0000, 0.0000,\n",
              "            0.0000, 0.0000, 0.0000, 0.0000],\n",
              "           [0.0000, 0.0000, 0.0000, 0.0000, 0.0000, 0.0000, 0.0000, 0.0000,\n",
              "            0.0000, 0.0000, 0.9804, 0.8471, 0.9686, 0.6078, 0.1569, 1.0000,\n",
              "            0.8275, 0.9882, 0.1412, 0.0000, 0.0000, 0.0000, 0.0000, 0.0000,\n",
              "            0.0000, 0.0000, 0.0000, 0.0000],\n",
              "           [0.0000, 0.0000, 0.0000, 0.0000, 0.0000, 0.0000, 0.0000, 0.0000,\n",
              "            0.0000, 0.0000, 0.8902, 0.8627, 0.9882, 0.5255, 0.1725, 1.0000,\n",
              "            0.8431, 0.9451, 0.0000, 0.0000, 0.0000, 0.0000, 0.0000, 0.0000,\n",
              "            0.0000, 0.0000, 0.0000, 0.0000],\n",
              "           [0.0000, 0.0000, 0.0000, 0.0000, 0.0000, 0.0000, 0.0000, 0.0000,\n",
              "            0.0000, 0.0000, 0.7922, 0.8863, 0.9922, 0.4784, 0.2275, 1.0000,\n",
              "            0.8627, 0.8627, 0.0000, 0.0000, 0.0000, 0.0000, 0.0000, 0.0000,\n",
              "            0.0000, 0.0000, 0.0000, 0.0000],\n",
              "           [0.0000, 0.0000, 0.0000, 0.0000, 0.0000, 0.0000, 0.0000, 0.0000,\n",
              "            0.0000, 0.0000, 0.6588, 0.8902, 0.9922, 0.4863, 0.2706, 1.0000,\n",
              "            0.8745, 0.7490, 0.0000, 0.0000, 0.0000, 0.0000, 0.0000, 0.0000,\n",
              "            0.0000, 0.0000, 0.0000, 0.0000],\n",
              "           [0.0000, 0.0000, 0.0000, 0.0000, 0.0000, 0.0000, 0.0000, 0.0000,\n",
              "            0.0000, 0.0000, 0.5765, 0.8980, 0.9961, 0.3686, 0.3020, 1.0000,\n",
              "            0.8784, 0.6078, 0.0000, 0.0000, 0.0000, 0.0000, 0.0000, 0.0000,\n",
              "            0.0000, 0.0000, 0.0000, 0.0000],\n",
              "           [0.0000, 0.0000, 0.0000, 0.0000, 0.0000, 0.0000, 0.0000, 0.0000,\n",
              "            0.0000, 0.0000, 0.4078, 0.9098, 0.9176, 0.3020, 0.2745, 1.0000,\n",
              "            0.8824, 0.4941, 0.0000, 0.0000, 0.0000, 0.0000, 0.0000, 0.0000,\n",
              "            0.0000, 0.0000, 0.0000, 0.0000],\n",
              "           [0.0000, 0.0000, 0.0000, 0.0000, 0.0000, 0.0000, 0.0000, 0.0000,\n",
              "            0.0000, 0.0000, 0.3490, 0.9216, 0.9294, 0.2392, 0.1020, 1.0000,\n",
              "            0.8902, 0.4235, 0.0000, 0.0000, 0.0000, 0.0000, 0.0000, 0.0000,\n",
              "            0.0000, 0.0000, 0.0000, 0.0000],\n",
              "           [0.0000, 0.0000, 0.0000, 0.0000, 0.0000, 0.0000, 0.0000, 0.0000,\n",
              "            0.0000, 0.0000, 0.5647, 0.9176, 1.0000, 0.1529, 0.0275, 1.0000,\n",
              "            0.9020, 0.6196, 0.0000, 0.0000, 0.0000, 0.0000, 0.0000, 0.0000,\n",
              "            0.0000, 0.0000, 0.0000, 0.0000],\n",
              "           [0.0000, 0.0000, 0.0000, 0.0000, 0.0000, 0.0000, 0.0000, 0.0000,\n",
              "            0.0000, 0.0000, 0.6667, 0.9216, 1.0000, 0.0000, 0.0000, 1.0000,\n",
              "            0.9059, 0.6510, 0.0000, 0.0000, 0.0000, 0.0000, 0.0000, 0.0000,\n",
              "            0.0000, 0.0000, 0.0000, 0.0000],\n",
              "           [0.0000, 0.0000, 0.0000, 0.0000, 0.0000, 0.0000, 0.0000, 0.0000,\n",
              "            0.0000, 0.0000, 0.8039, 0.9059, 1.0000, 0.0000, 0.0000, 1.0000,\n",
              "            0.9176, 0.6784, 0.0000, 0.0000, 0.0000, 0.0000, 0.0000, 0.0000,\n",
              "            0.0000, 0.0000, 0.0000, 0.0000],\n",
              "           [0.0000, 0.0000, 0.0000, 0.0000, 0.0000, 0.0000, 0.0000, 0.0000,\n",
              "            0.0000, 0.0000, 0.7294, 0.9137, 1.0000, 0.0353, 0.0000, 1.0000,\n",
              "            0.9255, 0.6588, 0.0000, 0.0000, 0.0000, 0.0000, 0.0000, 0.0000,\n",
              "            0.0000, 0.0000, 0.0000, 0.0000],\n",
              "           [0.0000, 0.0000, 0.0000, 0.0000, 0.0000, 0.0000, 0.0000, 0.0000,\n",
              "            0.0000, 0.0000, 0.7098, 0.9255, 1.0000, 0.0588, 0.0000, 1.0000,\n",
              "            0.9294, 0.6392, 0.0000, 0.0000, 0.0000, 0.0000, 0.0000, 0.0000,\n",
              "            0.0000, 0.0000, 0.0000, 0.0000],\n",
              "           [0.0000, 0.0000, 0.0000, 0.0000, 0.0000, 0.0000, 0.0000, 0.0000,\n",
              "            0.0000, 0.0000, 0.7412, 0.9255, 0.9373, 0.0745, 0.0000, 1.0000,\n",
              "            0.9412, 0.6039, 0.0000, 0.0000, 0.0000, 0.0000, 0.0000, 0.0000,\n",
              "            0.0000, 0.0000, 0.0000, 0.0000],\n",
              "           [0.0000, 0.0000, 0.0000, 0.0000, 0.0000, 0.0000, 0.0000, 0.0000,\n",
              "            0.0000, 0.0000, 0.7333, 0.9333, 0.9412, 0.0549, 0.0000, 1.0000,\n",
              "            0.9451, 0.6000, 0.0000, 0.0000, 0.0000, 0.0000, 0.0000, 0.0000,\n",
              "            0.0000, 0.0000, 0.0000, 0.0000],\n",
              "           [0.0000, 0.0000, 0.0000, 0.0000, 0.0000, 0.0000, 0.0000, 0.0000,\n",
              "            0.0000, 0.0000, 0.7098, 0.9412, 0.9412, 0.0471, 0.0000, 0.9216,\n",
              "            0.9569, 0.5961, 0.0000, 0.0000, 0.0000, 0.0000, 0.0000, 0.0000,\n",
              "            0.0000, 0.0000, 0.0000, 0.0000],\n",
              "           [0.0000, 0.0000, 0.0000, 0.0000, 0.0000, 0.0000, 0.0000, 0.0000,\n",
              "            0.0000, 0.0000, 0.5882, 0.9490, 0.9176, 0.0000, 0.0000, 0.8980,\n",
              "            0.9569, 0.5059, 0.0000, 0.0000, 0.0000, 0.0000, 0.0000, 0.0000,\n",
              "            0.0000, 0.0000, 0.0000, 0.0000],\n",
              "           [0.0000, 0.0000, 0.0000, 0.0000, 0.0000, 0.0000, 0.0000, 0.0000,\n",
              "            0.0000, 0.0000, 0.3725, 0.9725, 0.9961, 0.0000, 0.0000, 0.9020,\n",
              "            0.9608, 0.3294, 0.0000, 0.0000, 0.0000, 0.0000, 0.0000, 0.0000,\n",
              "            0.0000, 0.0000, 0.0000, 0.0000],\n",
              "           [0.0000, 0.0000, 0.0000, 0.0000, 0.0000, 0.0000, 0.0000, 0.0000,\n",
              "            0.0000, 0.0000, 0.2353, 0.9529, 0.8824, 0.0000, 0.0000, 0.8941,\n",
              "            0.8196, 0.1137, 0.0000, 0.0000, 0.0000, 0.0000, 0.0000, 0.0000,\n",
              "            0.0000, 0.0000, 0.0000, 0.0000]]])],\n",
              " [5, 1, 7, 4, 3, 0, 4, 7, 1])"
            ]
          },
          "metadata": {},
          "execution_count": 240
        }
      ]
    },
    {
      "cell_type": "code",
      "source": [
        "test_image[0].shape , test_label[0] , class_names[test_label[0]]"
      ],
      "metadata": {
        "colab": {
          "base_uri": "https://localhost:8080/"
        },
        "id": "Vea0O_VHQryh",
        "outputId": "a21200d0-7773-4954-917d-bfaab9c36cb2"
      },
      "execution_count": 241,
      "outputs": [
        {
          "output_type": "execute_result",
          "data": {
            "text/plain": [
              "(torch.Size([1, 28, 28]), 5, 'Sandal')"
            ]
          },
          "metadata": {},
          "execution_count": 241
        }
      ]
    },
    {
      "cell_type": "code",
      "source": [
        "plt.imshow(test_image[0].squeeze())\n",
        "plt.title(class_names[test_label[0]])"
      ],
      "metadata": {
        "colab": {
          "base_uri": "https://localhost:8080/",
          "height": 469
        },
        "id": "-3cNR38wQ4Rm",
        "outputId": "037875f3-0ccd-4a61-ea5b-f68978874f7b"
      },
      "execution_count": 242,
      "outputs": [
        {
          "output_type": "execute_result",
          "data": {
            "text/plain": [
              "Text(0.5, 1.0, 'Sandal')"
            ]
          },
          "metadata": {},
          "execution_count": 242
        },
        {
          "output_type": "display_data",
          "data": {
            "text/plain": [
              "<Figure size 640x480 with 1 Axes>"
            ],
            "image/png": "[encoded data removed]"
          },
          "metadata": {}
        }
      ]
    },
    {
      "cell_type": "code",
      "source": [
        "#predicted test image and label\n",
        "predimage = []\n",
        "model2.eval()\n",
        "\n",
        "with torch.inference_mode():\n",
        "    for i in test_image:\n",
        "        i = torch.unsqueeze(i, dim=0)\n",
        "        predlogit = model2(i)\n",
        "        predprob = torch.softmax(predlogit.squeeze(), dim=0)\n",
        "        predimage.append(predprob)\n",
        "\n",
        "predimagetensor = torch.stack(predimage)"
      ],
      "metadata": {
        "id": "NLyu2zYOebAQ"
      },
      "execution_count": 243,
      "outputs": []
    },
    {
      "cell_type": "code",
      "source": [
        "predlabel = predimagetensor.argmax(dim=1)\n",
        "predlabel"
      ],
      "metadata": {
        "colab": {
          "base_uri": "https://localhost:8080/"
        },
        "id": "ulFA19nNfA5k",
        "outputId": "7d948d58-0a92-43b2-d155-c4b238395d4c"
      },
      "execution_count": 244,
      "outputs": [
        {
          "output_type": "execute_result",
          "data": {
            "text/plain": [
              "tensor([5, 1, 7, 4, 3, 6, 4, 7, 1])"
            ]
          },
          "metadata": {},
          "execution_count": 244
        }
      ]
    },
    {
      "cell_type": "code",
      "source": [
        "predlabel , test_label"
      ],
      "metadata": {
        "colab": {
          "base_uri": "https://localhost:8080/"
        },
        "id": "rRXB1MuBgAL0",
        "outputId": "f3aa4e0d-dee4-4ffc-b63b-2db325384e21"
      },
      "execution_count": 245,
      "outputs": [
        {
          "output_type": "execute_result",
          "data": {
            "text/plain": [
              "(tensor([5, 1, 7, 4, 3, 6, 4, 7, 1]), [5, 1, 7, 4, 3, 0, 4, 7, 1])"
            ]
          },
          "metadata": {},
          "execution_count": 245
        }
      ]
    },
    {
      "cell_type": "code",
      "source": [
        "test_label_tensor = torch.tensor(test_label)\n",
        "test_label_tensor"
      ],
      "metadata": {
        "colab": {
          "base_uri": "https://localhost:8080/"
        },
        "id": "O-xpduzDgjuI",
        "outputId": "53ee9a68-ad9d-46c3-ff17-1ebc050b1d7e"
      },
      "execution_count": 246,
      "outputs": [
        {
          "output_type": "execute_result",
          "data": {
            "text/plain": [
              "tensor([5, 1, 7, 4, 3, 0, 4, 7, 1])"
            ]
          },
          "metadata": {},
          "execution_count": 246
        }
      ]
    },
    {
      "cell_type": "code",
      "source": [
        "predlabel == test_label_tensor"
      ],
      "metadata": {
        "colab": {
          "base_uri": "https://localhost:8080/"
        },
        "id": "e7ERRSF2gxZq",
        "outputId": "84456b92-74a9-478a-dadf-41f31731aeda"
      },
      "execution_count": 247,
      "outputs": [
        {
          "output_type": "execute_result",
          "data": {
            "text/plain": [
              "tensor([ True,  True,  True,  True,  True, False,  True,  True,  True])"
            ]
          },
          "metadata": {},
          "execution_count": 247
        }
      ]
    },
    {
      "cell_type": "code",
      "source": [
        "plt.figure(figsize=(10,11))\n",
        "nrows = 3\n",
        "ncols = 3\n",
        "for i , j in enumerate(test_image):\n",
        "  plt.subplot(nrows , ncols , i+1)\n",
        "  plt.imshow(j.squeeze(),cmap='gray')\n",
        "  pred = class_names[predlabel[i]]\n",
        "  actual = class_names[test_label_tensor[i]]\n",
        "  titletext = f\"Prediction : {pred} Actual : {actual}\"\n",
        "\n",
        "  if pred == actual:\n",
        "    plt.title(titletext,c='g')\n",
        "  else:\n",
        "    plt.title(titletext,c='r')"
      ],
      "metadata": {
        "colab": {
          "base_uri": "https://localhost:8080/",
          "height": 667
        },
        "id": "RfrE0TvtTxHg",
        "outputId": "ec190266-b42a-4d73-bfb9-e5249efbe16e"
      },
      "execution_count": 248,
      "outputs": [
        {
          "output_type": "display_data",
          "data": {
            "text/plain": [
              "<Figure size 1000x1100 with 9 Axes>"
            ],
            "image/png": "[encoded data removed]"
          },
          "metadata": {}
        }
      ]
    },
    {
      "cell_type": "code",
      "source": [
        "#another dataset"
      ],
      "metadata": {
        "id": "ZYySHfDhjfuX"
      },
      "execution_count": 249,
      "outputs": []
    },
    {
      "cell_type": "code",
      "source": [
        "import torch\n",
        "from torch import nn\n",
        "import torchvision\n",
        "from torchvision import datasets\n",
        "from torchvision import transforms\n",
        "import matplotlib.pyplot as plt"
      ],
      "metadata": {
        "id": "sehoQHgljfwm"
      },
      "execution_count": 250,
      "outputs": []
    },
    {
      "cell_type": "code",
      "source": [
        "train_data = datasets.MNIST(root='data1' , train=True , download = True , transform = transforms.ToTensor())\n",
        "test_data = datasets.MNIST(root='data1' , train=False , download = True , transform = transforms.ToTensor())"
      ],
      "metadata": {
        "id": "JDLMTjORjf0C"
      },
      "execution_count": 251,
      "outputs": []
    },
    {
      "cell_type": "code",
      "source": [
        "train_data , test_data"
      ],
      "metadata": {
        "colab": {
          "base_uri": "https://localhost:8080/"
        },
        "id": "Wclx3haokXnl",
        "outputId": "5f1fb34f-9a31-4666-b2ad-ac4e734b51a4"
      },
      "execution_count": 252,
      "outputs": [
        {
          "output_type": "execute_result",
          "data": {
            "text/plain": [
              "(Dataset MNIST\n",
              "     Number of datapoints: 60000\n",
              "     Root location: data1\n",
              "     Split: Train\n",
              "     StandardTransform\n",
              " Transform: ToTensor(),\n",
              " Dataset MNIST\n",
              "     Number of datapoints: 10000\n",
              "     Root location: data1\n",
              "     Split: Test\n",
              "     StandardTransform\n",
              " Transform: ToTensor())"
            ]
          },
          "metadata": {},
          "execution_count": 252
        }
      ]
    },
    {
      "cell_type": "code",
      "source": [
        "len(train_data) , len(test_data)"
      ],
      "metadata": {
        "colab": {
          "base_uri": "https://localhost:8080/"
        },
        "id": "DgNvHOo5kb7n",
        "outputId": "b7c29e5d-36ba-46b5-9cca-839985415182"
      },
      "execution_count": 253,
      "outputs": [
        {
          "output_type": "execute_result",
          "data": {
            "text/plain": [
              "(60000, 10000)"
            ]
          },
          "metadata": {},
          "execution_count": 253
        }
      ]
    },
    {
      "cell_type": "code",
      "source": [
        "image , label = train_data[0]"
      ],
      "metadata": {
        "id": "zKIry7FFkw5Z"
      },
      "execution_count": 254,
      "outputs": []
    },
    {
      "cell_type": "code",
      "source": [
        "image.shape , label"
      ],
      "metadata": {
        "colab": {
          "base_uri": "https://localhost:8080/"
        },
        "id": "RkLAv-wTkyBe",
        "outputId": "430ec164-f252-453b-cd5f-00656fe300d9"
      },
      "execution_count": 255,
      "outputs": [
        {
          "output_type": "execute_result",
          "data": {
            "text/plain": [
              "(torch.Size([1, 28, 28]), 5)"
            ]
          },
          "metadata": {},
          "execution_count": 255
        }
      ]
    },
    {
      "cell_type": "code",
      "source": [
        "len(train_data.data) , len(train_data.targets) , len(test_data.data) ,len(test_data.targets)"
      ],
      "metadata": {
        "colab": {
          "base_uri": "https://localhost:8080/"
        },
        "id": "odfBwuLCkyD2",
        "outputId": "947826fa-6869-4adf-afd6-650ac0bf6667"
      },
      "execution_count": 256,
      "outputs": [
        {
          "output_type": "execute_result",
          "data": {
            "text/plain": [
              "(60000, 60000, 10000, 10000)"
            ]
          },
          "metadata": {},
          "execution_count": 256
        }
      ]
    },
    {
      "cell_type": "code",
      "source": [
        "class_names = train_data.classes\n",
        "class_names"
      ],
      "metadata": {
        "colab": {
          "base_uri": "https://localhost:8080/"
        },
        "id": "9ntIwhgDkyGU",
        "outputId": "0b5aa1ba-8f91-4514-ae38-b39d2e6f64ab"
      },
      "execution_count": 257,
      "outputs": [
        {
          "output_type": "execute_result",
          "data": {
            "text/plain": [
              "['0 - zero',\n",
              " '1 - one',\n",
              " '2 - two',\n",
              " '3 - three',\n",
              " '4 - four',\n",
              " '5 - five',\n",
              " '6 - six',\n",
              " '7 - seven',\n",
              " '8 - eight',\n",
              " '9 - nine']"
            ]
          },
          "metadata": {},
          "execution_count": 257
        }
      ]
    },
    {
      "cell_type": "code",
      "source": [
        "image , label = train_data[0]\n",
        "plt.imshow(image.squeeze())\n",
        "plt.title(class_names[label])"
      ],
      "metadata": {
        "colab": {
          "base_uri": "https://localhost:8080/",
          "height": 469
        },
        "id": "_dM0-J7ckyJ4",
        "outputId": "cd4765f2-6696-4c6f-ca90-997231e409d1"
      },
      "execution_count": 258,
      "outputs": [
        {
          "output_type": "execute_result",
          "data": {
            "text/plain": [
              "Text(0.5, 1.0, '5 - five')"
            ]
          },
          "metadata": {},
          "execution_count": 258
        },
        {
          "output_type": "display_data",
          "data": {
            "text/plain": [
              "<Figure size 640x480 with 1 Axes>"
            ],
            "image/png": "[encoded data removed]"
          },
          "metadata": {}
        }
      ]
    },
    {
      "cell_type": "code",
      "source": [
        "image , label = train_data[0]\n",
        "plt.imshow(image.squeeze(),cmap='gray')\n",
        "plt.title(class_names[label])"
      ],
      "metadata": {
        "colab": {
          "base_uri": "https://localhost:8080/",
          "height": 469
        },
        "id": "fYA4S5NUmCws",
        "outputId": "fcc63818-dc25-4605-dd06-edc0dff36a35"
      },
      "execution_count": 259,
      "outputs": [
        {
          "output_type": "execute_result",
          "data": {
            "text/plain": [
              "Text(0.5, 1.0, '5 - five')"
            ]
          },
          "metadata": {},
          "execution_count": 259
        },
        {
          "output_type": "display_data",
          "data": {
            "text/plain": [
              "<Figure size 640x480 with 1 Axes>"
            ],
            "image/png": "[encoded data removed]"
          },
          "metadata": {}
        }
      ]
    },
    {
      "cell_type": "code",
      "source": [
        "torch.manual_seed(42)\n",
        "fig = plt.figure(figsize=(9, 9))\n",
        "rows, cols = 4, 4\n",
        "for i in range(1, rows * cols + 1):\n",
        "    random_idx = torch.randint(0, len(train_data), size=[1]).item()\n",
        "    img, label = train_data[random_idx]\n",
        "    fig.add_subplot(rows, cols, i)\n",
        "    plt.imshow(img.squeeze(), cmap=\"gray\")\n",
        "    plt.title(class_names[label])\n",
        "    plt.axis(False)"
      ],
      "metadata": {
        "colab": {
          "base_uri": "https://localhost:8080/",
          "height": 664
        },
        "id": "ne7KgkkjmQtC",
        "outputId": "bf9009cd-800d-4d1d-d320-c786886f1416"
      },
      "execution_count": 260,
      "outputs": [
        {
          "output_type": "display_data",
          "data": {
            "text/plain": [
              "<Figure size 900x900 with 16 Axes>"
            ],
            "image/png": "[encoded data removed]"
          },
          "metadata": {}
        }
      ]
    },
    {
      "cell_type": "code",
      "source": [
        "from torch.utils.data import DataLoader\n",
        "\n",
        "train_dataloader = DataLoader(dataset=train_data,batch_size=32,shuffle=True)\n",
        "test_dataloader = DataLoader(dataset=test_data , batch_size=32 , shuffle=False)"
      ],
      "metadata": {
        "id": "GrxU58G_mXn5"
      },
      "execution_count": 261,
      "outputs": []
    },
    {
      "cell_type": "code",
      "source": [
        "train_dataloader , test_dataloader"
      ],
      "metadata": {
        "colab": {
          "base_uri": "https://localhost:8080/"
        },
        "id": "QUAj2ZC9myMT",
        "outputId": "dfd18340-1832-4729-e6df-5e2a0792a01f"
      },
      "execution_count": 262,
      "outputs": [
        {
          "output_type": "execute_result",
          "data": {
            "text/plain": [
              "(<torch.utils.data.dataloader.DataLoader at 0x788a4ffdbd60>,\n",
              " <torch.utils.data.dataloader.DataLoader at 0x788a4ffdb0d0>)"
            ]
          },
          "metadata": {},
          "execution_count": 262
        }
      ]
    },
    {
      "cell_type": "code",
      "source": [
        "train_image_batch , test_label_batch = next(iter(train_dataloader))"
      ],
      "metadata": {
        "id": "P2ZSTSJ9m1zr"
      },
      "execution_count": 263,
      "outputs": []
    },
    {
      "cell_type": "code",
      "source": [
        "train_image_batch , test_label_batch"
      ],
      "metadata": {
        "colab": {
          "base_uri": "https://localhost:8080/"
        },
        "id": "jSfuhGB9m--c",
        "outputId": "e552c26f-2aeb-4cc4-edaa-ad74fc30d6bc"
      },
      "execution_count": 264,
      "outputs": [
        {
          "output_type": "execute_result",
          "data": {
            "text/plain": [
              "(tensor([[[[0., 0., 0.,  ..., 0., 0., 0.],\n",
              "           [0., 0., 0.,  ..., 0., 0., 0.],\n",
              "           [0., 0., 0.,  ..., 0., 0., 0.],\n",
              "           ...,\n",
              "           [0., 0., 0.,  ..., 0., 0., 0.],\n",
              "           [0., 0., 0.,  ..., 0., 0., 0.],\n",
              "           [0., 0., 0.,  ..., 0., 0., 0.]]],\n",
              " \n",
              " \n",
              "         [[[0., 0., 0.,  ..., 0., 0., 0.],\n",
              "           [0., 0., 0.,  ..., 0., 0., 0.],\n",
              "           [0., 0., 0.,  ..., 0., 0., 0.],\n",
              "           ...,\n",
              "           [0., 0., 0.,  ..., 0., 0., 0.],\n",
              "           [0., 0., 0.,  ..., 0., 0., 0.],\n",
              "           [0., 0., 0.,  ..., 0., 0., 0.]]],\n",
              " \n",
              " \n",
              "         [[[0., 0., 0.,  ..., 0., 0., 0.],\n",
              "           [0., 0., 0.,  ..., 0., 0., 0.],\n",
              "           [0., 0., 0.,  ..., 0., 0., 0.],\n",
              "           ...,\n",
              "           [0., 0., 0.,  ..., 0., 0., 0.],\n",
              "           [0., 0., 0.,  ..., 0., 0., 0.],\n",
              "           [0., 0., 0.,  ..., 0., 0., 0.]]],\n",
              " \n",
              " \n",
              "         ...,\n",
              " \n",
              " \n",
              "         [[[0., 0., 0.,  ..., 0., 0., 0.],\n",
              "           [0., 0., 0.,  ..., 0., 0., 0.],\n",
              "           [0., 0., 0.,  ..., 0., 0., 0.],\n",
              "           ...,\n",
              "           [0., 0., 0.,  ..., 0., 0., 0.],\n",
              "           [0., 0., 0.,  ..., 0., 0., 0.],\n",
              "           [0., 0., 0.,  ..., 0., 0., 0.]]],\n",
              " \n",
              " \n",
              "         [[[0., 0., 0.,  ..., 0., 0., 0.],\n",
              "           [0., 0., 0.,  ..., 0., 0., 0.],\n",
              "           [0., 0., 0.,  ..., 0., 0., 0.],\n",
              "           ...,\n",
              "           [0., 0., 0.,  ..., 0., 0., 0.],\n",
              "           [0., 0., 0.,  ..., 0., 0., 0.],\n",
              "           [0., 0., 0.,  ..., 0., 0., 0.]]],\n",
              " \n",
              " \n",
              "         [[[0., 0., 0.,  ..., 0., 0., 0.],\n",
              "           [0., 0., 0.,  ..., 0., 0., 0.],\n",
              "           [0., 0., 0.,  ..., 0., 0., 0.],\n",
              "           ...,\n",
              "           [0., 0., 0.,  ..., 0., 0., 0.],\n",
              "           [0., 0., 0.,  ..., 0., 0., 0.],\n",
              "           [0., 0., 0.,  ..., 0., 0., 0.]]]]),\n",
              " tensor([1, 1, 2, 4, 9, 7, 9, 1, 9, 4, 7, 4, 7, 7, 1, 5, 6, 4, 1, 4, 1, 0, 4, 7,\n",
              "         5, 4, 4, 2, 5, 8, 6, 9]))"
            ]
          },
          "metadata": {},
          "execution_count": 264
        }
      ]
    },
    {
      "cell_type": "code",
      "source": [
        "train_image_batch.shape , train_label_batch.shape"
      ],
      "metadata": {
        "colab": {
          "base_uri": "https://localhost:8080/"
        },
        "id": "IPNtXRX7nBgq",
        "outputId": "0e7e87ea-e258-49df-e576-ef79d3a8592a"
      },
      "execution_count": 265,
      "outputs": [
        {
          "output_type": "execute_result",
          "data": {
            "text/plain": [
              "(torch.Size([32, 1, 28, 28]), torch.Size([32]))"
            ]
          },
          "metadata": {},
          "execution_count": 265
        }
      ]
    },
    {
      "cell_type": "code",
      "source": [
        "len(train_dataloader) , len(test_dataloader)"
      ],
      "metadata": {
        "colab": {
          "base_uri": "https://localhost:8080/"
        },
        "id": "U_pYfMUDnLyP",
        "outputId": "c34899e2-5b8e-4867-86a8-ef5331f006e3"
      },
      "execution_count": 266,
      "outputs": [
        {
          "output_type": "execute_result",
          "data": {
            "text/plain": [
              "(1875, 313)"
            ]
          },
          "metadata": {},
          "execution_count": 266
        }
      ]
    },
    {
      "cell_type": "code",
      "source": [
        "1875*32"
      ],
      "metadata": {
        "colab": {
          "base_uri": "https://localhost:8080/"
        },
        "id": "UkXEFeHHnsB9",
        "outputId": "502cf556-1cef-4fbc-9b65-12118b839a11"
      },
      "execution_count": 267,
      "outputs": [
        {
          "output_type": "execute_result",
          "data": {
            "text/plain": [
              "60000"
            ]
          },
          "metadata": {},
          "execution_count": 267
        }
      ]
    },
    {
      "cell_type": "code",
      "source": [
        "313*32"
      ],
      "metadata": {
        "colab": {
          "base_uri": "https://localhost:8080/"
        },
        "id": "BwcpkycQn8m3",
        "outputId": "94862309-158d-44b7-c742-25fbb8532b64"
      },
      "execution_count": 268,
      "outputs": [
        {
          "output_type": "execute_result",
          "data": {
            "text/plain": [
              "10016"
            ]
          },
          "metadata": {},
          "execution_count": 268
        }
      ]
    },
    {
      "cell_type": "code",
      "source": [
        "class CNN1(nn.Module):\n",
        "  def __init__(self):\n",
        "    super().__init__()\n",
        "    self.block1 = nn.Sequential(\n",
        "        nn.Conv2d(in_channels=1,out_channels=10,kernel_size=3,stride=1,padding=1),\n",
        "        nn.ReLU(),\n",
        "        nn.Conv2d(in_channels=10,out_channels=10,kernel_size=3,stride=1,padding=1),\n",
        "        nn.ReLU(),\n",
        "        nn.MaxPool2d(kernel_size=2,stride=2)\n",
        "    )\n",
        "    self.block2 = nn.Sequential(\n",
        "        nn.Conv2d(in_channels=10,out_channels=10,kernel_size=3,stride=1,padding=1),\n",
        "        nn.ReLU(),\n",
        "        nn.Conv2d(in_channels=10,out_channels=10,kernel_size=3,stride=1,padding=1),\n",
        "        nn.ReLU(),\n",
        "        nn.MaxPool2d(2)\n",
        "    )\n",
        "    self.classifier = nn.Sequential(\n",
        "        nn.Flatten(),\n",
        "        nn.Linear(in_features=10*49,out_features=len(class_names))\n",
        "    )\n",
        "  def forward(self , x):\n",
        "    x=self.block1(x)\n",
        "    x=self.block2(x)\n",
        "    x=self.classifier(x)\n",
        "    return x\n",
        "\n",
        "model3 = CNN1()"
      ],
      "metadata": {
        "id": "dqrc_AbOn9rR"
      },
      "execution_count": 269,
      "outputs": []
    },
    {
      "cell_type": "code",
      "source": [
        "model3"
      ],
      "metadata": {
        "colab": {
          "base_uri": "https://localhost:8080/"
        },
        "id": "kz04sHNUph2Q",
        "outputId": "e80b9375-13b5-4ca4-d510-3385af4e1a5e"
      },
      "execution_count": 270,
      "outputs": [
        {
          "output_type": "execute_result",
          "data": {
            "text/plain": [
              "CNN1(\n",
              "  (block1): Sequential(\n",
              "    (0): Conv2d(1, 10, kernel_size=(3, 3), stride=(1, 1), padding=(1, 1))\n",
              "    (1): ReLU()\n",
              "    (2): Conv2d(10, 10, kernel_size=(3, 3), stride=(1, 1), padding=(1, 1))\n",
              "    (3): ReLU()\n",
              "    (4): MaxPool2d(kernel_size=2, stride=2, padding=0, dilation=1, ceil_mode=False)\n",
              "  )\n",
              "  (block2): Sequential(\n",
              "    (0): Conv2d(10, 10, kernel_size=(3, 3), stride=(1, 1), padding=(1, 1))\n",
              "    (1): ReLU()\n",
              "    (2): Conv2d(10, 10, kernel_size=(3, 3), stride=(1, 1), padding=(1, 1))\n",
              "    (3): ReLU()\n",
              "    (4): MaxPool2d(kernel_size=2, stride=2, padding=0, dilation=1, ceil_mode=False)\n",
              "  )\n",
              "  (classifier): Sequential(\n",
              "    (0): Flatten(start_dim=1, end_dim=-1)\n",
              "    (1): Linear(in_features=490, out_features=10, bias=True)\n",
              "  )\n",
              ")"
            ]
          },
          "metadata": {},
          "execution_count": 270
        }
      ]
    },
    {
      "cell_type": "code",
      "source": [
        "lossfn = nn.CrossEntropyLoss()\n",
        "optimiser = torch.optim.SGD(params=model3.parameters(),lr=0.1)"
      ],
      "metadata": {
        "id": "wptoeMd2pxxB"
      },
      "execution_count": 271,
      "outputs": []
    },
    {
      "cell_type": "code",
      "source": [
        "torch.manual_seed(42)\n",
        "\n",
        "epochs = 10\n",
        "\n",
        "for epoch in range(epochs):\n",
        "\n",
        "    trainloss = 0\n",
        "    trainacc = 0\n",
        "    for batch, (x, y) in enumerate(train_dataloader):\n",
        "        model3.train()\n",
        "\n",
        "        ypred = model3(x)\n",
        "\n",
        "        loss = lossfn(ypred, y)\n",
        "        trainloss += loss\n",
        "        trainacc += accuracy_fn(y_true=y, y_pred=ypred.argmax(dim=1))\n",
        "\n",
        "        optimiser.zero_grad()\n",
        "\n",
        "        loss.backward()\n",
        "\n",
        "        optimiser.step()\n",
        "\n",
        "    trainloss /= len(train_dataloader)\n",
        "    trainacc /= len(train_dataloader)\n",
        "\n",
        "    testloss, testacc = 0, 0\n",
        "    model3.eval()\n",
        "    with torch.inference_mode():\n",
        "        for x, y in test_dataloader:\n",
        "\n",
        "            testpred = model3(x)\n",
        "\n",
        "            testloss += lossfn(testpred, y)\n",
        "\n",
        "            testacc += accuracy_fn(y_true=y, y_pred=testpred.argmax(dim=1))\n",
        "\n",
        "        testloss /= len(test_dataloader)\n",
        "\n",
        "        testacc /= len(test_dataloader)\n",
        "\n",
        "    print(f\"Train loss: {trainloss} | Test loss: {testloss} | Train Accuracy : {trainacc} | Test Accuracy : {testacc} \")\n"
      ],
      "metadata": {
        "colab": {
          "base_uri": "https://localhost:8080/"
        },
        "id": "4PUhNvdeqEiK",
        "outputId": "beb34bde-b884-474e-ea81-b6e338d9dfa1"
      },
      "execution_count": 272,
      "outputs": [
        {
          "output_type": "stream",
          "name": "stdout",
          "text": [
            "Train loss: 0.2834799587726593 | Test loss: 0.062072694301605225 | Train Accuracy : 90.40666666666667 | Test Accuracy : 98.09305111821087 \n",
            "Train loss: 0.06683481484651566 | Test loss: 0.04475041851401329 | Train Accuracy : 97.83 | Test Accuracy : 98.50239616613419 \n",
            "Train loss: 0.05219211056828499 | Test loss: 0.04612262174487114 | Train Accuracy : 98.39166666666667 | Test Accuracy : 98.57228434504792 \n",
            "Train loss: 0.044897500425577164 | Test loss: 0.04680430144071579 | Train Accuracy : 98.57166666666667 | Test Accuracy : 98.3226837060703 \n",
            "Train loss: 0.03957344964146614 | Test loss: 0.03922520577907562 | Train Accuracy : 98.78833333333333 | Test Accuracy : 98.7020766773163 \n",
            "Train loss: 0.03560284525156021 | Test loss: 0.03183025121688843 | Train Accuracy : 98.89833333333333 | Test Accuracy : 98.86182108626198 \n",
            "Train loss: 0.031931281089782715 | Test loss: 0.04539274796843529 | Train Accuracy : 98.995 | Test Accuracy : 98.5223642172524 \n",
            "Train loss: 0.030591750517487526 | Test loss: 0.03137647733092308 | Train Accuracy : 99.02166666666666 | Test Accuracy : 98.94169329073482 \n",
            "Train loss: 0.02781236544251442 | Test loss: 0.03656966984272003 | Train Accuracy : 99.105 | Test Accuracy : 98.8917731629393 \n",
            "Train loss: 0.026336850598454475 | Test loss: 0.029308155179023743 | Train Accuracy : 99.12833333333333 | Test Accuracy : 99.03154952076677 \n"
          ]
        }
      ]
    },
    {
      "cell_type": "code",
      "source": [
        "image , label = test_data[0]"
      ],
      "metadata": {
        "id": "kn0jqrG21LEx"
      },
      "execution_count": 281,
      "outputs": []
    },
    {
      "cell_type": "code",
      "source": [
        "image.shape , label"
      ],
      "metadata": {
        "colab": {
          "base_uri": "https://localhost:8080/"
        },
        "id": "EkeHGIQk1LIR",
        "outputId": "b0c0eddb-3382-46d8-95e2-5a367217dfd0"
      },
      "execution_count": 282,
      "outputs": [
        {
          "output_type": "execute_result",
          "data": {
            "text/plain": [
              "(torch.Size([1, 28, 28]), 7)"
            ]
          },
          "metadata": {},
          "execution_count": 282
        }
      ]
    },
    {
      "cell_type": "code",
      "source": [
        "plt.imshow(image.squeeze(),cmap='gray')\n",
        "plt.title(class_names[label])"
      ],
      "metadata": {
        "colab": {
          "base_uri": "https://localhost:8080/",
          "height": 469
        },
        "id": "ZRjB3JY81UCB",
        "outputId": "af44f0e1-a4c4-40f4-deab-ccedceb43aa1"
      },
      "execution_count": 284,
      "outputs": [
        {
          "output_type": "execute_result",
          "data": {
            "text/plain": [
              "Text(0.5, 1.0, '7 - seven')"
            ]
          },
          "metadata": {},
          "execution_count": 284
        },
        {
          "output_type": "display_data",
          "data": {
            "text/plain": [
              "<Figure size 640x480 with 1 Axes>"
            ],
            "image/png": "[encoded data removed]"
          },
          "metadata": {}
        }
      ]
    },
    {
      "cell_type": "code",
      "source": [
        "#making prediction\n",
        "predlogit = model3(image.unsqueeze(dim=0))\n",
        "predprob = torch.softmax(predlogit,dim=1)\n",
        "predlabel = torch.argmax(predprob,dim=1)\n",
        "predlabel , class_names[predlabel]"
      ],
      "metadata": {
        "colab": {
          "base_uri": "https://localhost:8080/"
        },
        "id": "E4XbXLiw1b1q",
        "outputId": "95ccc365-43d0-4eae-9973-c3d62c9c3a3e"
      },
      "execution_count": 286,
      "outputs": [
        {
          "output_type": "execute_result",
          "data": {
            "text/plain": [
              "(tensor([7]), '7 - seven')"
            ]
          },
          "metadata": {},
          "execution_count": 286
        }
      ]
    },
    {
      "cell_type": "code",
      "source": [
        "for i in range(10):\n",
        "    img = test_data[i][0]\n",
        "    label = test_data[i][1]\n",
        "\n",
        "    model_pred_logits = model3(img.unsqueeze(dim=0))\n",
        "    model_pred_probs = torch.softmax(model_pred_logits, dim=1)\n",
        "    model_pred_label = torch.argmax(model_pred_probs, dim=1)\n",
        "\n",
        "    plt.figure()\n",
        "    plt.imshow(img.squeeze(), cmap=\"gray\")\n",
        "    plt.title(f\"Actual: {label} | Predicted: {model_pred_label.item()}\")\n",
        "    plt.axis(False)\n",
        "    plt.show()"
      ],
      "metadata": {
        "colab": {
          "base_uri": "https://localhost:8080/",
          "height": 1000
        },
        "id": "JPAtpVVx2IRr",
        "outputId": "d0e179e0-66a9-486e-a304-1da15672e273"
      },
      "execution_count": 294,
      "outputs": [
        {
          "output_type": "display_data",
          "data": {
            "text/plain": [
              "<Figure size 640x480 with 1 Axes>"
            ],
            "image/png": "[encoded data removed]"
          },
          "metadata": {}
        },
        {
          "output_type": "display_data",
          "data": {
            "text/plain": [
              "<Figure size 640x480 with 1 Axes>"
            ],
            "image/png": "[encoded data removed]"
          },
          "metadata": {}
        },
        {
          "output_type": "display_data",
          "data": {
            "text/plain": [
              "<Figure size 640x480 with 1 Axes>"
            ],
            "image/png": "[encoded data removed]"
          },
          "metadata": {}
        },
        {
          "output_type": "display_data",
          "data": {
            "text/plain": [
              "<Figure size 640x480 with 1 Axes>"
            ],
            "image/png": "[encoded data removed]"
          },
          "metadata": {}
        },
        {
          "output_type": "display_data",
          "data": {
            "text/plain": [
              "<Figure size 640x480 with 1 Axes>"
            ],
            "image/png": "[encoded data removed]"
          },
          "metadata": {}
        },
        {
          "output_type": "display_data",
          "data": {
            "text/plain": [
              "<Figure size 640x480 with 1 Axes>"
            ],
            "image/png": "[encoded data removed]"
          },
          "metadata": {}
        },
        {
          "output_type": "display_data",
          "data": {
            "text/plain": [
              "<Figure size 640x480 with 1 Axes>"
            ],
            "image/png": "[encoded data removed]"
          },
          "metadata": {}
        },
        {
          "output_type": "display_data",
          "data": {
            "text/plain": [
              "<Figure size 640x480 with 1 Axes>"
            ],
            "image/png": "[encoded data removed]"
          },
          "metadata": {}
        },
        {
          "output_type": "display_data",
          "data": {
            "text/plain": [
              "<Figure size 640x480 with 1 Axes>"
            ],
            "image/png": "[encoded data removed]"
          },
          "metadata": {}
        },
        {
          "output_type": "display_data",
          "data": {
            "text/plain": [
              "<Figure size 640x480 with 1 Axes>"
            ],
            "image/png": "[encoded data removed]"
          },
          "metadata": {}
        }
      ]
    },
    {
      "cell_type": "code",
      "source": [],
      "metadata": {
        "id": "N6aERlyE3sC-"
      },
      "execution_count": null,
      "outputs": []
    }
  ]
}